{
 "cells": [
  {
   "cell_type": "markdown",
   "id": "psychological-novel",
   "metadata": {},
   "source": [
    "## The formula I construct\n",
    "\n",
    "$$\\frac{2}{T}\\sum_{t=1}^{\\frac{T}{2}}[(x_{2t} - x_{2t-2}) * (y_{2t+1} - y_{2t-1})] * \\sqrt{2}$$"
   ]
  },
  {
   "cell_type": "markdown",
   "id": "mighty-hungarian",
   "metadata": {},
   "source": [
    "## Let's read the dataset first"
   ]
  },
  {
   "cell_type": "code",
   "execution_count": 293,
   "id": "architectural-certificate",
   "metadata": {},
   "outputs": [
    {
     "data": {
      "text/plain": [
       "Date\n",
       "2015-01-02    111.096741\n",
       "2015-01-05    111.786163\n",
       "2015-01-06    118.188011\n",
       "2015-01-07    122.521576\n",
       "2015-01-08    125.377777\n",
       "                 ...    \n",
       "2020-12-24    557.500000\n",
       "2020-12-28    519.000000\n",
       "2020-12-29    530.500000\n",
       "2020-12-30    559.500000\n",
       "2020-12-31    566.000000\n",
       "Name: Adj Close, Length: 1481, dtype: float64"
      ]
     },
     "execution_count": 293,
     "metadata": {},
     "output_type": "execute_result"
    }
   ],
   "source": [
    "import pandas_datareader.data as web\n",
    "import datetime as dt\n",
    "\n",
    "df_tencent = web.DataReader('0700.hk', 'yahoo', dt.date(2015, 1, 1), dt.date(2020, 12, 31))\n",
    "df_tencent = df_tencent['Adj Close']\n",
    "df_tencent"
   ]
  },
  {
   "cell_type": "code",
   "execution_count": 294,
   "id": "arbitrary-purse",
   "metadata": {},
   "outputs": [
    {
     "data": {
      "text/plain": [
       "Date\n",
       "2014-12-31     524.958740\n",
       "2015-01-02     523.373108\n",
       "2015-01-05     512.463013\n",
       "2015-01-06     500.585632\n",
       "2015-01-07     499.727997\n",
       "                 ...     \n",
       "2020-12-24    1738.849976\n",
       "2020-12-28    1776.089966\n",
       "2020-12-29    1758.719971\n",
       "2020-12-30    1739.520020\n",
       "2020-12-31    1751.880005\n",
       "Name: Adj Close, Length: 1512, dtype: float64"
      ]
     },
     "execution_count": 294,
     "metadata": {},
     "output_type": "execute_result"
    }
   ],
   "source": [
    "df_google = web.DataReader('GOOG', 'yahoo', dt.date(2015, 1, 1), dt.date(2020, 12, 31))\n",
    "df_google = df_google['Adj Close']\n",
    "df_google"
   ]
  },
  {
   "cell_type": "code",
   "execution_count": 295,
   "id": "enclosed-florida",
   "metadata": {},
   "outputs": [
    {
     "data": {
      "text/html": [
       "<div>\n",
       "<style scoped>\n",
       "    .dataframe tbody tr th:only-of-type {\n",
       "        vertical-align: middle;\n",
       "    }\n",
       "\n",
       "    .dataframe tbody tr th {\n",
       "        vertical-align: top;\n",
       "    }\n",
       "\n",
       "    .dataframe thead th {\n",
       "        text-align: right;\n",
       "    }\n",
       "</style>\n",
       "<table border=\"1\" class=\"dataframe\">\n",
       "  <thead>\n",
       "    <tr style=\"text-align: right;\">\n",
       "      <th></th>\n",
       "      <th>tencent</th>\n",
       "      <th>google</th>\n",
       "    </tr>\n",
       "    <tr>\n",
       "      <th>Date</th>\n",
       "      <th></th>\n",
       "      <th></th>\n",
       "    </tr>\n",
       "  </thead>\n",
       "  <tbody>\n",
       "    <tr>\n",
       "      <th>2015-01-02</th>\n",
       "      <td>111.096741</td>\n",
       "      <td>523.373108</td>\n",
       "    </tr>\n",
       "    <tr>\n",
       "      <th>2015-01-05</th>\n",
       "      <td>111.786163</td>\n",
       "      <td>512.463013</td>\n",
       "    </tr>\n",
       "    <tr>\n",
       "      <th>2015-01-06</th>\n",
       "      <td>118.188011</td>\n",
       "      <td>500.585632</td>\n",
       "    </tr>\n",
       "    <tr>\n",
       "      <th>2015-01-07</th>\n",
       "      <td>122.521576</td>\n",
       "      <td>499.727997</td>\n",
       "    </tr>\n",
       "    <tr>\n",
       "      <th>2015-01-08</th>\n",
       "      <td>125.377777</td>\n",
       "      <td>501.303680</td>\n",
       "    </tr>\n",
       "    <tr>\n",
       "      <th>...</th>\n",
       "      <td>...</td>\n",
       "      <td>...</td>\n",
       "    </tr>\n",
       "    <tr>\n",
       "      <th>2020-12-24</th>\n",
       "      <td>557.500000</td>\n",
       "      <td>1738.849976</td>\n",
       "    </tr>\n",
       "    <tr>\n",
       "      <th>2020-12-28</th>\n",
       "      <td>519.000000</td>\n",
       "      <td>1776.089966</td>\n",
       "    </tr>\n",
       "    <tr>\n",
       "      <th>2020-12-29</th>\n",
       "      <td>530.500000</td>\n",
       "      <td>1758.719971</td>\n",
       "    </tr>\n",
       "    <tr>\n",
       "      <th>2020-12-30</th>\n",
       "      <td>559.500000</td>\n",
       "      <td>1739.520020</td>\n",
       "    </tr>\n",
       "    <tr>\n",
       "      <th>2020-12-31</th>\n",
       "      <td>566.000000</td>\n",
       "      <td>1751.880005</td>\n",
       "    </tr>\n",
       "  </tbody>\n",
       "</table>\n",
       "<p>1446 rows × 2 columns</p>\n",
       "</div>"
      ],
      "text/plain": [
       "               tencent       google\n",
       "Date                               \n",
       "2015-01-02  111.096741   523.373108\n",
       "2015-01-05  111.786163   512.463013\n",
       "2015-01-06  118.188011   500.585632\n",
       "2015-01-07  122.521576   499.727997\n",
       "2015-01-08  125.377777   501.303680\n",
       "...                ...          ...\n",
       "2020-12-24  557.500000  1738.849976\n",
       "2020-12-28  519.000000  1776.089966\n",
       "2020-12-29  530.500000  1758.719971\n",
       "2020-12-30  559.500000  1739.520020\n",
       "2020-12-31  566.000000  1751.880005\n",
       "\n",
       "[1446 rows x 2 columns]"
      ]
     },
     "execution_count": 295,
     "metadata": {},
     "output_type": "execute_result"
    }
   ],
   "source": [
    "import pandas as pd\n",
    "\n",
    "df = pd.merge(df_tencent, df_google, on=\"Date\")\n",
    "df.columns = ['tencent', 'google']\n",
    "df"
   ]
  },
  {
   "cell_type": "markdown",
   "id": "tight-optimization",
   "metadata": {},
   "source": [
    "## Visualize the dataset, it appears that Tencent and Google are highly correlated"
   ]
  },
  {
   "cell_type": "code",
   "execution_count": 296,
   "id": "tough-edwards",
   "metadata": {},
   "outputs": [
    {
     "data": {
      "text/plain": [
       "[]"
      ]
     },
     "execution_count": 296,
     "metadata": {},
     "output_type": "execute_result"
    },
    {
     "data": {
      "image/png": "[encoded data removed]",
      "text/plain": [
       "<Figure size 432x288 with 1 Axes>"
      ]
     },
     "metadata": {
      "needs_background": "light"
     },
     "output_type": "display_data"
    }
   ],
   "source": [
    "import matplotlib.pyplot as plt\n",
    "import seaborn as sns\n",
    "\n",
    "\n",
    "sns.lineplot(x=df.index, y=df['tencent'])\n",
    "sns.lineplot(x=df.index, y=df['google'])\n",
    "\n",
    "plt.plot()"
   ]
  },
  {
   "cell_type": "markdown",
   "id": "retained-entertainment",
   "metadata": {},
   "source": [
    "## If I get you right, we can standardize the data to make it simpler"
   ]
  },
  {
   "cell_type": "code",
   "execution_count": 297,
   "id": "limiting-monitoring",
   "metadata": {},
   "outputs": [
    {
     "data": {
      "text/plain": [
       "Date\n",
       "2015-01-02   -1.504074\n",
       "2015-01-05   -1.498590\n",
       "2015-01-06   -1.447665\n",
       "2015-01-07   -1.413193\n",
       "2015-01-08   -1.390473\n",
       "                ...   \n",
       "2020-12-24    2.046937\n",
       "2020-12-28    1.740680\n",
       "2020-12-29    1.832159\n",
       "2020-12-30    2.062846\n",
       "2020-12-31    2.114552\n",
       "Name: tencent, Length: 1446, dtype: float64"
      ]
     },
     "execution_count": 297,
     "metadata": {},
     "output_type": "execute_result"
    }
   ],
   "source": [
    "df['tencent'] = (df['tencent'] - df['tencent'].mean()) / df['tencent'].std()\n",
    "df['google'] = (df['google'] - df['google'].mean()) / df['google'].std()\n",
    "df['tencent']"
   ]
  },
  {
   "cell_type": "code",
   "execution_count": 298,
   "id": "comic-result",
   "metadata": {},
   "outputs": [
    {
     "data": {
      "text/plain": [
       "0.9999999999999997"
      ]
     },
     "execution_count": 298,
     "metadata": {},
     "output_type": "execute_result"
    }
   ],
   "source": [
    "df['google'].var()"
   ]
  },
  {
   "cell_type": "markdown",
   "id": "asian-healing",
   "metadata": {},
   "source": [
    "## First attempt: do it the naive way"
   ]
  },
  {
   "cell_type": "code",
   "execution_count": 299,
   "id": "invalid-accuracy",
   "metadata": {},
   "outputs": [
    {
     "data": {
      "text/plain": [
       "0.932412372940946"
      ]
     },
     "execution_count": 299,
     "metadata": {},
     "output_type": "execute_result"
    }
   ],
   "source": [
    "df['tencent'].corr(df['google'])"
   ]
  },
  {
   "cell_type": "markdown",
   "id": "comic-mention",
   "metadata": {},
   "source": [
    "## Second attempt: the way I proposed.\n",
    "Seems the results are almost the same as the naive approach"
   ]
  },
  {
   "cell_type": "code",
   "execution_count": 300,
   "id": "retained-advice",
   "metadata": {},
   "outputs": [
    {
     "data": {
      "text/plain": [
       "0.9338380273292184"
      ]
     },
     "execution_count": 300,
     "metadata": {},
     "output_type": "execute_result"
    }
   ],
   "source": [
    "df_tencent_sma = df['tencent'].rolling(window=20).mean().iloc[20:]\n",
    "df_google_sma = df['google'].rolling(window=20).mean().iloc[20:]\n",
    "df_google_sma.corr(df_tencent_sma)"
   ]
  },
  {
   "cell_type": "code",
   "execution_count": 301,
   "id": "orange-killing",
   "metadata": {},
   "outputs": [
    {
     "data": {
      "text/plain": [
       "0.9339385571181312"
      ]
     },
     "execution_count": 301,
     "metadata": {},
     "output_type": "execute_result"
    }
   ],
   "source": [
    "df_tencent_sma = df['tencent'].rolling(window=60).mean().iloc[60:]\n",
    "df_google_sma = df['google'].rolling(window=60).mean().iloc[60:]\n",
    "df_google_sma.corr(df_tencent_sma)"
   ]
  },
  {
   "cell_type": "markdown",
   "id": "hybrid-temple",
   "metadata": {},
   "source": [
    "## Third attempt: the sophisticated approach\n",
    "### Step 1: remove half of data from Tencent from row 0"
   ]
  },
  {
   "cell_type": "code",
   "execution_count": 302,
   "id": "featured-neighbor",
   "metadata": {},
   "outputs": [
    {
     "data": {
      "text/plain": [
       "Date\n",
       "2015-01-02   -1.504074\n",
       "2015-01-06   -1.447665\n",
       "2015-01-08   -1.390473\n",
       "2015-01-12   -1.392040\n",
       "2015-01-14   -1.400658\n",
       "                ...   \n",
       "2020-12-17    2.249782\n",
       "2020-12-21    2.162280\n",
       "2020-12-23    2.154325\n",
       "2020-12-28    1.740680\n",
       "2020-12-30    2.062846\n",
       "Name: tencent, Length: 723, dtype: float64"
      ]
     },
     "execution_count": 302,
     "metadata": {},
     "output_type": "execute_result"
    }
   ],
   "source": [
    "df_tencent = df['tencent']\n",
    "df_tencent = df_tencent.iloc[::2]\n",
    "df_tencent"
   ]
  },
  {
   "cell_type": "markdown",
   "id": "affected-brazilian",
   "metadata": {},
   "source": [
    "### Step 2: remove half of data from Google from row 1"
   ]
  },
  {
   "cell_type": "code",
   "execution_count": 303,
   "id": "american-programming",
   "metadata": {},
   "outputs": [
    {
     "data": {
      "text/plain": [
       "Date\n",
       "2015-01-05   -1.612856\n",
       "2015-01-07   -1.654194\n",
       "2015-01-09   -1.670153\n",
       "2015-01-13   -1.670121\n",
       "2015-01-15   -1.651961\n",
       "                ...   \n",
       "2020-12-18    2.342534\n",
       "2020-12-22    2.318157\n",
       "2020-12-24    2.367983\n",
       "2020-12-29    2.432480\n",
       "2020-12-31    2.410278\n",
       "Name: google, Length: 723, dtype: float64"
      ]
     },
     "execution_count": 303,
     "metadata": {},
     "output_type": "execute_result"
    }
   ],
   "source": [
    "df_google = df['google']\n",
    "df_google = df_google.iloc[1:]\n",
    "df_google = df_google.iloc[::2]\n",
    "df_google"
   ]
  },
  {
   "cell_type": "markdown",
   "id": "sorted-interim",
   "metadata": {},
   "source": [
    "### Step 3: calculate $(x_{2t} - x_{2t-2})$ and $(y_{2t+1} - y_{2t-1})$ respectively"
   ]
  },
  {
   "cell_type": "code",
   "execution_count": 304,
   "id": "regulated-prerequisite",
   "metadata": {},
   "outputs": [
    {
     "data": {
      "text/plain": [
       "Date\n",
       "2015-01-02   -1.504074\n",
       "2015-01-06   -1.447665\n",
       "2015-01-08   -1.390473\n",
       "2015-01-12   -1.392040\n",
       "2015-01-14   -1.400658\n",
       "                ...   \n",
       "2020-12-17    2.249782\n",
       "2020-12-21    2.162280\n",
       "2020-12-23    2.154325\n",
       "2020-12-28    1.740680\n",
       "2020-12-30    2.062846\n",
       "Name: tencent, Length: 723, dtype: float64"
      ]
     },
     "execution_count": 304,
     "metadata": {},
     "output_type": "execute_result"
    }
   ],
   "source": [
    "df_tencent.diff()\n",
    "df_tencent"
   ]
  },
  {
   "cell_type": "code",
   "execution_count": 305,
   "id": "middle-september",
   "metadata": {},
   "outputs": [
    {
     "data": {
      "text/plain": [
       "Date\n",
       "2015-01-05   -1.612856\n",
       "2015-01-07   -1.654194\n",
       "2015-01-09   -1.670153\n",
       "2015-01-13   -1.670121\n",
       "2015-01-15   -1.651961\n",
       "                ...   \n",
       "2020-12-18    2.342534\n",
       "2020-12-22    2.318157\n",
       "2020-12-24    2.367983\n",
       "2020-12-29    2.432480\n",
       "2020-12-31    2.410278\n",
       "Name: google, Length: 723, dtype: float64"
      ]
     },
     "execution_count": 305,
     "metadata": {},
     "output_type": "execute_result"
    }
   ],
   "source": [
    "df_google.diff()\n",
    "df_google"
   ]
  },
  {
   "cell_type": "code",
   "execution_count": 306,
   "id": "foreign-asthma",
   "metadata": {},
   "outputs": [
    {
     "data": {
      "text/plain": [
       "0     -1.612856\n",
       "1     -1.654194\n",
       "2     -1.670153\n",
       "3     -1.670121\n",
       "4     -1.651961\n",
       "         ...   \n",
       "718    2.342534\n",
       "719    2.318157\n",
       "720    2.367983\n",
       "721    2.432480\n",
       "722    2.410278\n",
       "Name: google, Length: 723, dtype: float64"
      ]
     },
     "execution_count": 306,
     "metadata": {},
     "output_type": "execute_result"
    }
   ],
   "source": [
    "df_tencent.reset_index(drop=True, inplace=True)\n",
    "df_google.reset_index(drop=True, inplace=True)\n",
    "df_google"
   ]
  },
  {
   "cell_type": "markdown",
   "id": "acquired-officer",
   "metadata": {},
   "source": [
    "### Step 4: calculate $(x_{2t} - x_{2t-2}) * (y_{2t+1} - y_{2t-1})$"
   ]
  },
  {
   "cell_type": "code",
   "execution_count": 307,
   "id": "threatened-emergency",
   "metadata": {},
   "outputs": [],
   "source": [
    "df_res = df_tencent * df_google"
   ]
  },
  {
   "cell_type": "markdown",
   "id": "every-revision",
   "metadata": {},
   "source": [
    "### Step 5: Result\n",
    "If I do **not** multiply the mean() by $\\sqrt{2}$, it is pretty close to the first two attempts."
   ]
  },
  {
   "cell_type": "code",
   "execution_count": 308,
   "id": "valuable-sleeping",
   "metadata": {},
   "outputs": [
    {
     "data": {
      "text/plain": [
       "0.9309268419354831"
      ]
     },
     "execution_count": 308,
     "metadata": {},
     "output_type": "execute_result"
    }
   ],
   "source": [
    "df_res.mean()"
   ]
  },
  {
   "cell_type": "markdown",
   "id": "intended-burden",
   "metadata": {},
   "source": [
    "If I do, then the result will be greater than one, which, by the definition of Pearson's correlation coefficient,\n",
    "is impossible"
   ]
  },
  {
   "cell_type": "code",
   "execution_count": 309,
   "id": "creative-leadership",
   "metadata": {},
   "outputs": [
    {
     "data": {
      "text/plain": [
       "1.316529365442315"
      ]
     },
     "execution_count": 309,
     "metadata": {},
     "output_type": "execute_result"
    }
   ],
   "source": [
    "df_res.mean() * 2 ** 0.5"
   ]
  }
 ],
 "metadata": {
  "kernelspec": {
   "display_name": "Python 3",
   "language": "python",
   "name": "python3"
  },
  "language_info": {
   "codemirror_mode": {
    "name": "ipython",
    "version": 3
   },
   "file_extension": ".py",
   "mimetype": "text/x-python",
   "name": "python",
   "nbconvert_exporter": "python",
   "pygments_lexer": "ipython3",
   "version": "3.9.2"
  }
 },
 "nbformat": 4,
 "nbformat_minor": 5
}
