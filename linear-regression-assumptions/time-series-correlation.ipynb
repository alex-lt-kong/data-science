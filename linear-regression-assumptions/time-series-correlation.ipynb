{
 "cells": [
  {
   "cell_type": "markdown",
   "id": "legislative-gospel",
   "metadata": {},
   "source": [
    "## The formula I construct\n",
    "\n",
    "$$\\frac{2}{T}\\sum_{t=1}^{\\frac{T}{2}}[(x_{2t} - x_{2t-2}) * (y_{2t+1} - y_{2t-1})] * \\sqrt{2}$$"
   ]
  },
  {
   "cell_type": "markdown",
   "id": "active-release",
   "metadata": {},
   "source": [
    "## Let's read the dataset first"
   ]
  },
  {
   "cell_type": "code",
   "execution_count": 444,
   "id": "raising-infection",
   "metadata": {},
   "outputs": [
    {
     "data": {
      "text/plain": [
       "Date\n",
       "2015-01-02    111.096741\n",
       "2015-01-05    111.786163\n",
       "2015-01-06    118.188011\n",
       "2015-01-07    122.521576\n",
       "2015-01-08    125.377777\n",
       "                 ...    \n",
       "2020-12-24    557.500000\n",
       "2020-12-28    519.000000\n",
       "2020-12-29    530.500000\n",
       "2020-12-30    559.500000\n",
       "2020-12-31    566.000000\n",
       "Name: Adj Close, Length: 1481, dtype: float64"
      ]
     },
     "execution_count": 444,
     "metadata": {},
     "output_type": "execute_result"
    }
   ],
   "source": [
    "import pandas_datareader.data as web\n",
    "import datetime as dt\n",
    "\n",
    "df_tencent = web.DataReader('0700.hk', 'yahoo', dt.date(2015, 1, 1), dt.date(2020, 12, 31))\n",
    "df_tencent = df_tencent['Adj Close']\n",
    "df_tencent"
   ]
  },
  {
   "cell_type": "code",
   "execution_count": 445,
   "id": "sudden-stocks",
   "metadata": {},
   "outputs": [
    {
     "data": {
      "text/plain": [
       "Date\n",
       "2014-12-31     524.958740\n",
       "2015-01-02     523.373108\n",
       "2015-01-05     512.463013\n",
       "2015-01-06     500.585632\n",
       "2015-01-07     499.727997\n",
       "                 ...     \n",
       "2020-12-24    1738.849976\n",
       "2020-12-28    1776.089966\n",
       "2020-12-29    1758.719971\n",
       "2020-12-30    1739.520020\n",
       "2020-12-31    1751.880005\n",
       "Name: Adj Close, Length: 1512, dtype: float64"
      ]
     },
     "execution_count": 445,
     "metadata": {},
     "output_type": "execute_result"
    }
   ],
   "source": [
    "df_google = web.DataReader('GOOG', 'yahoo', dt.date(2015, 1, 1), dt.date(2020, 12, 31))\n",
    "df_google = df_google['Adj Close']\n",
    "df_google"
   ]
  },
  {
   "cell_type": "code",
   "execution_count": 446,
   "id": "cross-display",
   "metadata": {},
   "outputs": [
    {
     "data": {
      "text/html": [
       "<div>\n",
       "<style scoped>\n",
       "    .dataframe tbody tr th:only-of-type {\n",
       "        vertical-align: middle;\n",
       "    }\n",
       "\n",
       "    .dataframe tbody tr th {\n",
       "        vertical-align: top;\n",
       "    }\n",
       "\n",
       "    .dataframe thead th {\n",
       "        text-align: right;\n",
       "    }\n",
       "</style>\n",
       "<table border=\"1\" class=\"dataframe\">\n",
       "  <thead>\n",
       "    <tr style=\"text-align: right;\">\n",
       "      <th></th>\n",
       "      <th>tencent</th>\n",
       "      <th>google</th>\n",
       "    </tr>\n",
       "    <tr>\n",
       "      <th>Date</th>\n",
       "      <th></th>\n",
       "      <th></th>\n",
       "    </tr>\n",
       "  </thead>\n",
       "  <tbody>\n",
       "    <tr>\n",
       "      <th>2015-01-02</th>\n",
       "      <td>111.096741</td>\n",
       "      <td>523.373108</td>\n",
       "    </tr>\n",
       "    <tr>\n",
       "      <th>2015-01-05</th>\n",
       "      <td>111.786163</td>\n",
       "      <td>512.463013</td>\n",
       "    </tr>\n",
       "    <tr>\n",
       "      <th>2015-01-06</th>\n",
       "      <td>118.188011</td>\n",
       "      <td>500.585632</td>\n",
       "    </tr>\n",
       "    <tr>\n",
       "      <th>2015-01-07</th>\n",
       "      <td>122.521576</td>\n",
       "      <td>499.727997</td>\n",
       "    </tr>\n",
       "    <tr>\n",
       "      <th>2015-01-08</th>\n",
       "      <td>125.377777</td>\n",
       "      <td>501.303680</td>\n",
       "    </tr>\n",
       "    <tr>\n",
       "      <th>...</th>\n",
       "      <td>...</td>\n",
       "      <td>...</td>\n",
       "    </tr>\n",
       "    <tr>\n",
       "      <th>2020-12-24</th>\n",
       "      <td>557.500000</td>\n",
       "      <td>1738.849976</td>\n",
       "    </tr>\n",
       "    <tr>\n",
       "      <th>2020-12-28</th>\n",
       "      <td>519.000000</td>\n",
       "      <td>1776.089966</td>\n",
       "    </tr>\n",
       "    <tr>\n",
       "      <th>2020-12-29</th>\n",
       "      <td>530.500000</td>\n",
       "      <td>1758.719971</td>\n",
       "    </tr>\n",
       "    <tr>\n",
       "      <th>2020-12-30</th>\n",
       "      <td>559.500000</td>\n",
       "      <td>1739.520020</td>\n",
       "    </tr>\n",
       "    <tr>\n",
       "      <th>2020-12-31</th>\n",
       "      <td>566.000000</td>\n",
       "      <td>1751.880005</td>\n",
       "    </tr>\n",
       "  </tbody>\n",
       "</table>\n",
       "<p>1446 rows × 2 columns</p>\n",
       "</div>"
      ],
      "text/plain": [
       "               tencent       google\n",
       "Date                               \n",
       "2015-01-02  111.096741   523.373108\n",
       "2015-01-05  111.786163   512.463013\n",
       "2015-01-06  118.188011   500.585632\n",
       "2015-01-07  122.521576   499.727997\n",
       "2015-01-08  125.377777   501.303680\n",
       "...                ...          ...\n",
       "2020-12-24  557.500000  1738.849976\n",
       "2020-12-28  519.000000  1776.089966\n",
       "2020-12-29  530.500000  1758.719971\n",
       "2020-12-30  559.500000  1739.520020\n",
       "2020-12-31  566.000000  1751.880005\n",
       "\n",
       "[1446 rows x 2 columns]"
      ]
     },
     "execution_count": 446,
     "metadata": {},
     "output_type": "execute_result"
    }
   ],
   "source": [
    "import pandas as pd\n",
    "\n",
    "df = pd.merge(df_tencent, df_google, on=\"Date\")\n",
    "df.columns = ['tencent', 'google']\n",
    "df"
   ]
  },
  {
   "cell_type": "markdown",
   "id": "cheap-database",
   "metadata": {},
   "source": [
    "## Visualize the dataset, it appears that Tencent and Google are highly correlated"
   ]
  },
  {
   "cell_type": "code",
   "execution_count": 447,
   "id": "african-india",
   "metadata": {},
   "outputs": [
    {
     "data": {
      "text/plain": [
       "[]"
      ]
     },
     "execution_count": 447,
     "metadata": {},
     "output_type": "execute_result"
    },
    {
     "data": {
      "image/png": "[encoded data removed]",
      "text/plain": [
       "<Figure size 432x288 with 1 Axes>"
      ]
     },
     "metadata": {
      "needs_background": "light"
     },
     "output_type": "display_data"
    }
   ],
   "source": [
    "import matplotlib.pyplot as plt\n",
    "import seaborn as sns\n",
    "\n",
    "\n",
    "sns.lineplot(x=df.index, y=df['tencent'])\n",
    "sns.lineplot(x=df.index, y=df['google'])\n",
    "\n",
    "plt.plot()"
   ]
  },
  {
   "cell_type": "markdown",
   "id": "employed-success",
   "metadata": {},
   "source": [
    "## Could Tencent and Google be a cointegrated pair?\n",
    "While it is not quite related to the original question, let's do it, just for fun!"
   ]
  },
  {
   "cell_type": "code",
   "execution_count": 448,
   "id": "marked-flooring",
   "metadata": {},
   "outputs": [
    {
     "data": {
      "text/plain": [
       "0.1408485616865035"
      ]
     },
     "execution_count": 448,
     "metadata": {},
     "output_type": "execute_result"
    }
   ],
   "source": [
    "from statsmodels.tsa.stattools import coint\n",
    "\n",
    "coint_t, p_value, crit_value = coint(df['tencent'], df['google'])\n",
    "p_value"
   ]
  },
  {
   "cell_type": "markdown",
   "id": "harmful-discovery",
   "metadata": {},
   "source": [
    "If we just test the existence, the answer appears to be no...\n",
    "\n",
    "However, we can make one step further..."
   ]
  },
  {
   "cell_type": "code",
   "execution_count": 449,
   "id": "pregnant-construction",
   "metadata": {},
   "outputs": [
    {
     "data": {
      "text/html": [
       "<table class=\"simpletable\">\n",
       "<caption>OLS Regression Results</caption>\n",
       "<tr>\n",
       "  <th>Dep. Variable:</th>            <td>y</td>        <th>  R-squared:         </th> <td>   0.869</td> \n",
       "</tr>\n",
       "<tr>\n",
       "  <th>Model:</th>                   <td>OLS</td>       <th>  Adj. R-squared:    </th> <td>   0.869</td> \n",
       "</tr>\n",
       "<tr>\n",
       "  <th>Method:</th>             <td>Least Squares</td>  <th>  F-statistic:       </th> <td>   9612.</td> \n",
       "</tr>\n",
       "<tr>\n",
       "  <th>Date:</th>             <td>Fri, 02 Apr 2021</td> <th>  Prob (F-statistic):</th>  <td>  0.00</td>  \n",
       "</tr>\n",
       "<tr>\n",
       "  <th>Time:</th>                 <td>01:08:43</td>     <th>  Log-Likelihood:    </th> <td> -8865.6</td> \n",
       "</tr>\n",
       "<tr>\n",
       "  <th>No. Observations:</th>      <td>  1446</td>      <th>  AIC:               </th> <td>1.774e+04</td>\n",
       "</tr>\n",
       "<tr>\n",
       "  <th>Df Residuals:</th>          <td>  1444</td>      <th>  BIC:               </th> <td>1.775e+04</td>\n",
       "</tr>\n",
       "<tr>\n",
       "  <th>Df Model:</th>              <td>     1</td>      <th>                     </th>     <td> </td>    \n",
       "</tr>\n",
       "<tr>\n",
       "  <th>Covariance Type:</th>      <td>nonrobust</td>    <th>                     </th>     <td> </td>    \n",
       "</tr>\n",
       "</table>\n",
       "<table class=\"simpletable\">\n",
       "<tr>\n",
       "      <td></td>         <th>coef</th>     <th>std err</th>      <th>t</th>      <th>P>|t|</th>  <th>[0.025</th>    <th>0.975]</th>  \n",
       "</tr>\n",
       "<tr>\n",
       "  <th>Intercept</th> <td>  323.4377</td> <td>    7.584</td> <td>   42.645</td> <td> 0.000</td> <td>  308.560</td> <td>  338.315</td>\n",
       "</tr>\n",
       "<tr>\n",
       "  <th>X</th>         <td>    2.2850</td> <td>    0.023</td> <td>   98.041</td> <td> 0.000</td> <td>    2.239</td> <td>    2.331</td>\n",
       "</tr>\n",
       "</table>\n",
       "<table class=\"simpletable\">\n",
       "<tr>\n",
       "  <th>Omnibus:</th>       <td> 3.890</td> <th>  Durbin-Watson:     </th> <td>   0.042</td>\n",
       "</tr>\n",
       "<tr>\n",
       "  <th>Prob(Omnibus):</th> <td> 0.143</td> <th>  Jarque-Bera (JB):  </th> <td>   3.923</td>\n",
       "</tr>\n",
       "<tr>\n",
       "  <th>Skew:</th>          <td>-0.111</td> <th>  Prob(JB):          </th> <td>   0.141</td>\n",
       "</tr>\n",
       "<tr>\n",
       "  <th>Kurtosis:</th>      <td> 2.875</td> <th>  Cond. No.          </th> <td>    843.</td>\n",
       "</tr>\n",
       "</table><br/><br/>Notes:<br/>[1] Standard Errors assume that the covariance matrix of the errors is correctly specified."
      ],
      "text/plain": [
       "<class 'statsmodels.iolib.summary.Summary'>\n",
       "\"\"\"\n",
       "                            OLS Regression Results                            \n",
       "==============================================================================\n",
       "Dep. Variable:                      y   R-squared:                       0.869\n",
       "Model:                            OLS   Adj. R-squared:                  0.869\n",
       "Method:                 Least Squares   F-statistic:                     9612.\n",
       "Date:                Fri, 02 Apr 2021   Prob (F-statistic):               0.00\n",
       "Time:                        01:08:43   Log-Likelihood:                -8865.6\n",
       "No. Observations:                1446   AIC:                         1.774e+04\n",
       "Df Residuals:                    1444   BIC:                         1.775e+04\n",
       "Df Model:                           1                                         \n",
       "Covariance Type:            nonrobust                                         \n",
       "==============================================================================\n",
       "                 coef    std err          t      P>|t|      [0.025      0.975]\n",
       "------------------------------------------------------------------------------\n",
       "Intercept    323.4377      7.584     42.645      0.000     308.560     338.315\n",
       "X              2.2850      0.023     98.041      0.000       2.239       2.331\n",
       "==============================================================================\n",
       "Omnibus:                        3.890   Durbin-Watson:                   0.042\n",
       "Prob(Omnibus):                  0.143   Jarque-Bera (JB):                3.923\n",
       "Skew:                          -0.111   Prob(JB):                        0.141\n",
       "Kurtosis:                       2.875   Cond. No.                         843.\n",
       "==============================================================================\n",
       "\n",
       "Notes:\n",
       "[1] Standard Errors assume that the covariance matrix of the errors is correctly specified.\n",
       "\"\"\""
      ]
     },
     "execution_count": 449,
     "metadata": {},
     "output_type": "execute_result"
    }
   ],
   "source": [
    "import statsmodels.formula.api as smf\n",
    "\n",
    "df_train2 = pd.DataFrame()\n",
    "df_train2['X'] = df['tencent']\n",
    "df_train2['y'] = df['google']\n",
    "model = smf.ols(formula = 'y ~ X',\n",
    "                data = df_train2).fit()\n",
    "# This formula is given as domain knowledge\n",
    "model.summary()"
   ]
  },
  {
   "cell_type": "code",
   "execution_count": 450,
   "id": "emerging-powder",
   "metadata": {},
   "outputs": [
    {
     "data": {
      "image/png": "[encoded data removed]",
      "text/plain": [
       "<Figure size 432x288 with 1 Axes>"
      ]
     },
     "metadata": {
      "needs_background": "light"
     },
     "output_type": "display_data"
    }
   ],
   "source": [
    "df['lc'] = -2.2850 * df['tencent'] + df['google']\n",
    "plt.plot(df.index, df['lc'])\n",
    "plt.legend(['Linear Combination']);"
   ]
  },
  {
   "cell_type": "markdown",
   "id": "brazilian-safety",
   "metadata": {},
   "source": [
    "According to the ADF test, Tencent and Google **are** cointegrated! We may construct a statistical arbitrage\n",
    "strategy! But now, let's get back to the very original question first..."
   ]
  },
  {
   "cell_type": "code",
   "execution_count": 451,
   "id": "unsigned-citizen",
   "metadata": {},
   "outputs": [
    {
     "data": {
      "text/plain": [
       "0.04402758018581471"
      ]
     },
     "execution_count": 451,
     "metadata": {},
     "output_type": "execute_result"
    }
   ],
   "source": [
    "from statsmodels.tsa.stattools import adfuller\n",
    "p_value = adfuller(df['lc'])[1]\n",
    "p_value"
   ]
  },
  {
   "cell_type": "markdown",
   "id": "racial-waste",
   "metadata": {},
   "source": [
    "## If I get you right, we can standardize the data to make it simpler"
   ]
  },
  {
   "cell_type": "code",
   "execution_count": 452,
   "id": "terminal-macintosh",
   "metadata": {},
   "outputs": [
    {
     "data": {
      "text/plain": [
       "Date\n",
       "2015-01-02   -1.504074\n",
       "2015-01-05   -1.498590\n",
       "2015-01-06   -1.447665\n",
       "2015-01-07   -1.413193\n",
       "2015-01-08   -1.390473\n",
       "                ...   \n",
       "2020-12-24    2.046937\n",
       "2020-12-28    1.740680\n",
       "2020-12-29    1.832159\n",
       "2020-12-30    2.062846\n",
       "2020-12-31    2.114552\n",
       "Name: tencent, Length: 1446, dtype: float64"
      ]
     },
     "execution_count": 452,
     "metadata": {},
     "output_type": "execute_result"
    }
   ],
   "source": [
    "df['tencent'] = (df['tencent'] - df['tencent'].mean()) / df['tencent'].std()\n",
    "df['google'] = (df['google'] - df['google'].mean()) / df['google'].std()\n",
    "df['tencent']"
   ]
  },
  {
   "cell_type": "code",
   "execution_count": 453,
   "id": "starting-homework",
   "metadata": {},
   "outputs": [
    {
     "data": {
      "text/plain": [
       "0.9999999999999997"
      ]
     },
     "execution_count": 453,
     "metadata": {},
     "output_type": "execute_result"
    }
   ],
   "source": [
    "df['google'].var()"
   ]
  },
  {
   "cell_type": "markdown",
   "id": "personal-destruction",
   "metadata": {},
   "source": [
    "## First attempt: the naive way"
   ]
  },
  {
   "cell_type": "code",
   "execution_count": 454,
   "id": "lonely-saver",
   "metadata": {},
   "outputs": [
    {
     "data": {
      "text/plain": [
       "0.932412372940946"
      ]
     },
     "execution_count": 454,
     "metadata": {},
     "output_type": "execute_result"
    }
   ],
   "source": [
    "df['tencent'].corr(df['google'])"
   ]
  },
  {
   "cell_type": "markdown",
   "id": "basic-condition",
   "metadata": {},
   "source": [
    "## Second attempt: the way I proposed.\n",
    "Seems the results are almost the same as the naive approach"
   ]
  },
  {
   "cell_type": "code",
   "execution_count": 455,
   "id": "amber-testing",
   "metadata": {},
   "outputs": [
    {
     "data": {
      "text/plain": [
       "0.9338380273292184"
      ]
     },
     "execution_count": 455,
     "metadata": {},
     "output_type": "execute_result"
    }
   ],
   "source": [
    "df_tencent_sma = df['tencent'].rolling(window=20).mean().iloc[20:]\n",
    "df_google_sma = df['google'].rolling(window=20).mean().iloc[20:]\n",
    "df_google_sma.corr(df_tencent_sma)"
   ]
  },
  {
   "cell_type": "code",
   "execution_count": 456,
   "id": "coordinate-graph",
   "metadata": {},
   "outputs": [
    {
     "data": {
      "text/plain": [
       "0.9339385571181312"
      ]
     },
     "execution_count": 456,
     "metadata": {},
     "output_type": "execute_result"
    }
   ],
   "source": [
    "df_tencent_sma = df['tencent'].rolling(window=60).mean().iloc[60:]\n",
    "df_google_sma = df['google'].rolling(window=60).mean().iloc[60:]\n",
    "df_google_sma.corr(df_tencent_sma)"
   ]
  },
  {
   "cell_type": "markdown",
   "id": "separated-islam",
   "metadata": {},
   "source": [
    "## Third attempt: the sophisticated approach\n",
    "### Step 1: Remove half of data from Tencent from row 0"
   ]
  },
  {
   "cell_type": "code",
   "execution_count": 457,
   "id": "superior-worse",
   "metadata": {},
   "outputs": [
    {
     "data": {
      "text/plain": [
       "Date\n",
       "2015-01-02   -1.504074\n",
       "2015-01-06   -1.447665\n",
       "2015-01-08   -1.390473\n",
       "2015-01-12   -1.392040\n",
       "2015-01-14   -1.400658\n",
       "                ...   \n",
       "2020-12-17    2.249782\n",
       "2020-12-21    2.162280\n",
       "2020-12-23    2.154325\n",
       "2020-12-28    1.740680\n",
       "2020-12-30    2.062846\n",
       "Name: tencent, Length: 723, dtype: float64"
      ]
     },
     "execution_count": 457,
     "metadata": {},
     "output_type": "execute_result"
    }
   ],
   "source": [
    "df_tencent = df['tencent']\n",
    "df_tencent = df_tencent.iloc[::2]\n",
    "df_tencent"
   ]
  },
  {
   "cell_type": "markdown",
   "id": "derived-happiness",
   "metadata": {},
   "source": [
    "### Step 2: Remove half of data from Google from row 1"
   ]
  },
  {
   "cell_type": "code",
   "execution_count": 458,
   "id": "searching-newspaper",
   "metadata": {},
   "outputs": [
    {
     "data": {
      "text/plain": [
       "Date\n",
       "2015-01-05   -1.612856\n",
       "2015-01-07   -1.654194\n",
       "2015-01-09   -1.670153\n",
       "2015-01-13   -1.670121\n",
       "2015-01-15   -1.651961\n",
       "                ...   \n",
       "2020-12-18    2.342534\n",
       "2020-12-22    2.318157\n",
       "2020-12-24    2.367983\n",
       "2020-12-29    2.432480\n",
       "2020-12-31    2.410278\n",
       "Name: google, Length: 723, dtype: float64"
      ]
     },
     "execution_count": 458,
     "metadata": {},
     "output_type": "execute_result"
    }
   ],
   "source": [
    "df_google = df['google']\n",
    "df_google = df_google.iloc[1:]\n",
    "df_google = df_google.iloc[::2]\n",
    "df_google"
   ]
  },
  {
   "cell_type": "markdown",
   "id": "occupied-wrist",
   "metadata": {},
   "source": [
    "### Step 3: Calculate $(x_{2t} - x_{2t-2})$ and $(y_{2t+1} - y_{2t-1})$ respectively"
   ]
  },
  {
   "cell_type": "code",
   "execution_count": 459,
   "id": "mature-custody",
   "metadata": {},
   "outputs": [
    {
     "data": {
      "text/plain": [
       "Date\n",
       "2015-01-02   -1.504074\n",
       "2015-01-06   -1.447665\n",
       "2015-01-08   -1.390473\n",
       "2015-01-12   -1.392040\n",
       "2015-01-14   -1.400658\n",
       "                ...   \n",
       "2020-12-17    2.249782\n",
       "2020-12-21    2.162280\n",
       "2020-12-23    2.154325\n",
       "2020-12-28    1.740680\n",
       "2020-12-30    2.062846\n",
       "Name: tencent, Length: 723, dtype: float64"
      ]
     },
     "execution_count": 459,
     "metadata": {},
     "output_type": "execute_result"
    }
   ],
   "source": [
    "df_tencent.diff()\n",
    "df_tencent"
   ]
  },
  {
   "cell_type": "code",
   "execution_count": 460,
   "id": "silver-lottery",
   "metadata": {},
   "outputs": [
    {
     "data": {
      "text/plain": [
       "Date\n",
       "2015-01-05   -1.612856\n",
       "2015-01-07   -1.654194\n",
       "2015-01-09   -1.670153\n",
       "2015-01-13   -1.670121\n",
       "2015-01-15   -1.651961\n",
       "                ...   \n",
       "2020-12-18    2.342534\n",
       "2020-12-22    2.318157\n",
       "2020-12-24    2.367983\n",
       "2020-12-29    2.432480\n",
       "2020-12-31    2.410278\n",
       "Name: google, Length: 723, dtype: float64"
      ]
     },
     "execution_count": 460,
     "metadata": {},
     "output_type": "execute_result"
    }
   ],
   "source": [
    "df_google.diff()\n",
    "df_google"
   ]
  },
  {
   "cell_type": "code",
   "execution_count": 461,
   "id": "lesbian-ministry",
   "metadata": {},
   "outputs": [
    {
     "data": {
      "text/plain": [
       "0     -1.612856\n",
       "1     -1.654194\n",
       "2     -1.670153\n",
       "3     -1.670121\n",
       "4     -1.651961\n",
       "         ...   \n",
       "718    2.342534\n",
       "719    2.318157\n",
       "720    2.367983\n",
       "721    2.432480\n",
       "722    2.410278\n",
       "Name: google, Length: 723, dtype: float64"
      ]
     },
     "execution_count": 461,
     "metadata": {},
     "output_type": "execute_result"
    }
   ],
   "source": [
    "df_tencent.reset_index(drop=True, inplace=True)\n",
    "df_google.reset_index(drop=True, inplace=True)\n",
    "df_google"
   ]
  },
  {
   "cell_type": "markdown",
   "id": "domestic-antarctica",
   "metadata": {},
   "source": [
    "### Step 4: Calculate $(x_{2t} - x_{2t-2}) * (y_{2t+1} - y_{2t-1})$"
   ]
  },
  {
   "cell_type": "code",
   "execution_count": 462,
   "id": "functioning-driver",
   "metadata": {},
   "outputs": [],
   "source": [
    "df_res = df_tencent * df_google"
   ]
  },
  {
   "cell_type": "markdown",
   "id": "distributed-liverpool",
   "metadata": {},
   "source": [
    "### Step 5: Result\n",
    "If I do **not** multiply the mean() by $\\sqrt{2}$, it is pretty close to the first two attempts."
   ]
  },
  {
   "cell_type": "code",
   "execution_count": 463,
   "id": "closing-private",
   "metadata": {},
   "outputs": [
    {
     "data": {
      "text/plain": [
       "0.9309268419354831"
      ]
     },
     "execution_count": 463,
     "metadata": {},
     "output_type": "execute_result"
    }
   ],
   "source": [
    "df_res.mean()"
   ]
  },
  {
   "cell_type": "markdown",
   "id": "variable-basement",
   "metadata": {},
   "source": [
    "If I do, then the result will be greater than one, which, by the definition of Pearson's correlation coefficient,\n",
    "is impossible"
   ]
  },
  {
   "cell_type": "code",
   "execution_count": 464,
   "id": "patent-beauty",
   "metadata": {},
   "outputs": [
    {
     "data": {
      "text/plain": [
       "1.316529365442315"
      ]
     },
     "execution_count": 464,
     "metadata": {},
     "output_type": "execute_result"
    }
   ],
   "source": [
    "df_res.mean() * 2 ** 0.5"
   ]
  }
 ],
 "metadata": {
  "kernelspec": {
   "display_name": "Python 3",
   "language": "python",
   "name": "python3"
  },
  "language_info": {
   "codemirror_mode": {
    "name": "ipython",
    "version": 3
   },
   "file_extension": ".py",
   "mimetype": "text/x-python",
   "name": "python",
   "nbconvert_exporter": "python",
   "pygments_lexer": "ipython3",
   "version": "3.9.2"
  }
 },
 "nbformat": 4,
 "nbformat_minor": 5
}
