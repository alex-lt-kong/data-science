{
 "cells": [
  {
   "cell_type": "markdown",
   "metadata": {},
   "source": [
    "# Six assumptions of linear regression\n",
    "\n",
    "A1. $\\epsilon_1$, $\\epsilon_2$, ..., $\\epsilon_n$ have zero mean.\n",
    "\n",
    "A2. $\\epsilon_1$, $\\epsilon_2$, ..., $\\epsilon_n$ are normally distributed.\n",
    "\n",
    "A3. $\\epsilon_1$, $\\epsilon_2$, ..., $\\epsilon_n$ are indepedent.\n",
    "\n",
    "A4. $\\epsilon_1$, $\\epsilon_2$, ..., $\\epsilon_n$ have a common unknown variance $\\sigma^2$.\n",
    "\n",
    "A5. There is no linear relationship among the explanatory variables, i.e., there is no multicollinearity\n",
    "\n",
    "A6.  Linearity: The true relationship between the mean of the response variable\n",
    "\n",
    "<center>\n",
    "E[Y]= $\\beta_0$ + $\\beta_1 x_1$  + $\\beta_2 x_2$ + ... +  + $\\beta_k x_k$\n",
    "</center>\n",
    "    \n",
    "and the explanatory variables $x_1$, $x_1$, ... , $x_k$ is linear."
   ]
  },
  {
   "cell_type": "markdown",
   "metadata": {},
   "source": [
    "# Part I. Assumptions Tests\n",
    "\n",
    "First, take a look at the dataset."
   ]
  },
  {
   "cell_type": "code",
   "execution_count": 176,
   "metadata": {},
   "outputs": [
    {
     "data": {
      "text/html": [
       "<table class=\"simpletable\">\n",
       "<caption>OLS Regression Results</caption>\n",
       "<tr>\n",
       "  <th>Dep. Variable:</th>            <td>y</td>        <th>  R-squared:         </th> <td>   0.536</td> \n",
       "</tr>\n",
       "<tr>\n",
       "  <th>Model:</th>                   <td>OLS</td>       <th>  Adj. R-squared:    </th> <td>   0.532</td> \n",
       "</tr>\n",
       "<tr>\n",
       "  <th>Method:</th>             <td>Least Squares</td>  <th>  F-statistic:       </th> <td>   156.0</td> \n",
       "</tr>\n",
       "<tr>\n",
       "  <th>Date:</th>             <td>Sat, 27 Mar 2021</td> <th>  Prob (F-statistic):</th> <td>1.18e-88</td> \n",
       "</tr>\n",
       "<tr>\n",
       "  <th>Time:</th>                 <td>21:21:24</td>     <th>  Log-Likelihood:    </th> <td> -6130.0</td> \n",
       "</tr>\n",
       "<tr>\n",
       "  <th>No. Observations:</th>      <td>   546</td>      <th>  AIC:               </th> <td>1.227e+04</td>\n",
       "</tr>\n",
       "<tr>\n",
       "  <th>Df Residuals:</th>          <td>   541</td>      <th>  BIC:               </th> <td>1.229e+04</td>\n",
       "</tr>\n",
       "<tr>\n",
       "  <th>Df Model:</th>              <td>     4</td>      <th>                     </th>     <td> </td>    \n",
       "</tr>\n",
       "<tr>\n",
       "  <th>Covariance Type:</th>      <td>nonrobust</td>    <th>                     </th>     <td> </td>    \n",
       "</tr>\n",
       "</table>\n",
       "<table class=\"simpletable\">\n",
       "<tr>\n",
       "      <td></td>         <th>coef</th>     <th>std err</th>      <th>t</th>      <th>P>|t|</th>  <th>[0.025</th>    <th>0.975]</th>  \n",
       "</tr>\n",
       "<tr>\n",
       "  <th>Intercept</th> <td>-4009.5500</td> <td> 3603.109</td> <td>   -1.113</td> <td> 0.266</td> <td>-1.11e+04</td> <td> 3068.248</td>\n",
       "</tr>\n",
       "<tr>\n",
       "  <th>x1</th>        <td>    5.4292</td> <td>    0.369</td> <td>   14.703</td> <td> 0.000</td> <td>    4.704</td> <td>    6.155</td>\n",
       "</tr>\n",
       "<tr>\n",
       "  <th>x2</th>        <td> 2824.6138</td> <td> 1214.808</td> <td>    2.325</td> <td> 0.020</td> <td>  438.296</td> <td> 5210.932</td>\n",
       "</tr>\n",
       "<tr>\n",
       "  <th>x3</th>        <td> 1.711e+04</td> <td> 1734.434</td> <td>    9.862</td> <td> 0.000</td> <td> 1.37e+04</td> <td> 2.05e+04</td>\n",
       "</tr>\n",
       "<tr>\n",
       "  <th>x4</th>        <td> 7634.8970</td> <td> 1007.974</td> <td>    7.574</td> <td> 0.000</td> <td> 5654.874</td> <td> 9614.920</td>\n",
       "</tr>\n",
       "</table>\n",
       "<table class=\"simpletable\">\n",
       "<tr>\n",
       "  <th>Omnibus:</th>       <td>94.915</td> <th>  Durbin-Watson:     </th> <td>   1.483</td>\n",
       "</tr>\n",
       "<tr>\n",
       "  <th>Prob(Omnibus):</th> <td> 0.000</td> <th>  Jarque-Bera (JB):  </th> <td> 232.320</td>\n",
       "</tr>\n",
       "<tr>\n",
       "  <th>Skew:</th>          <td> 0.893</td> <th>  Prob(JB):          </th> <td>3.57e-51</td>\n",
       "</tr>\n",
       "<tr>\n",
       "  <th>Kurtosis:</th>      <td> 5.650</td> <th>  Cond. No.          </th> <td>2.64e+04</td>\n",
       "</tr>\n",
       "</table><br/><br/>Notes:<br/>[1] Standard Errors assume that the covariance matrix of the errors is correctly specified.<br/>[2] The condition number is large, 2.64e+04. This might indicate that there are<br/>strong multicollinearity or other numerical problems."
      ],
      "text/plain": [
       "<class 'statsmodels.iolib.summary.Summary'>\n",
       "\"\"\"\n",
       "                            OLS Regression Results                            \n",
       "==============================================================================\n",
       "Dep. Variable:                      y   R-squared:                       0.536\n",
       "Model:                            OLS   Adj. R-squared:                  0.532\n",
       "Method:                 Least Squares   F-statistic:                     156.0\n",
       "Date:                Sat, 27 Mar 2021   Prob (F-statistic):           1.18e-88\n",
       "Time:                        21:21:24   Log-Likelihood:                -6130.0\n",
       "No. Observations:                 546   AIC:                         1.227e+04\n",
       "Df Residuals:                     541   BIC:                         1.229e+04\n",
       "Df Model:                           4                                         \n",
       "Covariance Type:            nonrobust                                         \n",
       "==============================================================================\n",
       "                 coef    std err          t      P>|t|      [0.025      0.975]\n",
       "------------------------------------------------------------------------------\n",
       "Intercept  -4009.5500   3603.109     -1.113      0.266   -1.11e+04    3068.248\n",
       "x1             5.4292      0.369     14.703      0.000       4.704       6.155\n",
       "x2          2824.6138   1214.808      2.325      0.020     438.296    5210.932\n",
       "x3          1.711e+04   1734.434      9.862      0.000    1.37e+04    2.05e+04\n",
       "x4          7634.8970   1007.974      7.574      0.000    5654.874    9614.920\n",
       "==============================================================================\n",
       "Omnibus:                       94.915   Durbin-Watson:                   1.483\n",
       "Prob(Omnibus):                  0.000   Jarque-Bera (JB):              232.320\n",
       "Skew:                           0.893   Prob(JB):                     3.57e-51\n",
       "Kurtosis:                       5.650   Cond. No.                     2.64e+04\n",
       "==============================================================================\n",
       "\n",
       "Notes:\n",
       "[1] Standard Errors assume that the covariance matrix of the errors is correctly specified.\n",
       "[2] The condition number is large, 2.64e+04. This might indicate that there are\n",
       "strong multicollinearity or other numerical problems.\n",
       "\"\"\""
      ]
     },
     "execution_count": 176,
     "metadata": {},
     "output_type": "execute_result"
    }
   ],
   "source": [
    "import numpy as np\n",
    "import pandas as pd\n",
    "import statsmodels.formula.api as smf\n",
    "\n",
    "df = pd.read_csv('hprice.txt', sep='\\t')\n",
    "df = df[['Y', 'X1', 'X2', 'X3', 'X4']]\n",
    "patsy_formula = 'y ~ x1 + x2 + x3 + x4'\n",
    "data = pd.DataFrame({'x1': df['X1'], 'x2': df['X2'], 'x3': df['X3'], 'x4': df['X4'], 'y': df['Y']})\n",
    "model = smf.ols(formula = patsy_formula, data = data).fit()\n",
    "model.summary()"
   ]
  },
  {
   "cell_type": "markdown",
   "metadata": {},
   "source": [
    "## Student's T-test (Checking A1: Zero Mean)"
   ]
  },
  {
   "cell_type": "code",
   "execution_count": 177,
   "metadata": {},
   "outputs": [
    {
     "name": "stdout",
     "output_type": "stream",
     "text": [
      "p == 0.992227 (p > 0.05), sample mean equal to 0 (fail to reject H0)\n"
     ]
    }
   ],
   "source": [
    "import scipy as sp\n",
    "\n",
    "confidence_level = 0.95\n",
    "significance_level = 1 - confidence_level\n",
    "population_mean = 0\n",
    "stat, p_value = sp.stats.ttest_1samp(a=extresid, popmean=population_mean)\n",
    "print(f'p == {p_value:.6f}', end='')\n",
    "if p_value > significance_level:\n",
    "    print(f' (p > {significance_level:.2f}), sample mean equal to {population_mean} (fail to reject H0)')\n",
    "else:\n",
    "    print(f' (P <= {significance_level:.2f}), sample mean does NOT equal to {population_mean} (reject H0)')   "
   ]
  },
  {
   "cell_type": "markdown",
   "metadata": {},
   "source": [
    "## Q-Q Plot (Checking A2: Normally Distributed)\n",
    "\n",
    "If the data is normally distributed, the points in the QQ-normal plot lie on a straight diagonal line. However, more often than not, many cases are not that clear-cut just like the following one."
   ]
  },
  {
   "cell_type": "code",
   "execution_count": 178,
   "metadata": {},
   "outputs": [
    {
     "data": {
      "image/png": "[encoded data removed]",
      "text/plain": [
       "<Figure size 432x288 with 1 Axes>"
      ]
     },
     "metadata": {
      "needs_background": "light"
     },
     "output_type": "display_data"
    }
   ],
   "source": [
    "import statsmodels.api as sm\n",
    "    \n",
    "sm.qqplot(extresid, line='45')\n",
    "plt.show()"
   ]
  },
  {
   "cell_type": "markdown",
   "metadata": {},
   "source": [
    "## Normality Tests (Checking A2: Normally Distributed)\n",
    "\n",
    "#### Shapiro–Wilk test"
   ]
  },
  {
   "cell_type": "code",
   "execution_count": 179,
   "metadata": {},
   "outputs": [
    {
     "name": "stdout",
     "output_type": "stream",
     "text": [
      "p == 0.000000 (P <= 0.05), sample does NOT look Gaussian (reject H0)\n"
     ]
    }
   ],
   "source": [
    "from scipy.stats import shapiro\n",
    "\n",
    "assert len(extresid) >= 3 and len(extresid) <= 5000\n",
    "assert np.isnan(extresid).any() == False\n",
    "'''\n",
    "WARNING: According to page 228 of lecture-2-3_Ch1_MFIT5003_Fall2020-21_with_MJD.pdf,\n",
    "the allowed dataset length for Shapiro-Wilk test is [3, 5000]\n",
    "'''\n",
    "confidence_level = 0.95\n",
    "significance_level = 1 - confidence_level\n",
    "stat, p_value = shapiro(extresid)\n",
    "print(f'p == {p_value:.6f}', end='')\n",
    "if p > significance_level:\n",
    "    print(f' (p > {significance_level:.2f}), sample looks Gaussian (fail to reject H0)')\n",
    "else:\n",
    "    print(f' (P <= {significance_level:.2f}), sample does NOT look Gaussian (reject H0)')    "
   ]
  },
  {
   "cell_type": "markdown",
   "metadata": {},
   "source": [
    " #### Kolmogorov-Smirnov test (KS test)"
   ]
  },
  {
   "cell_type": "code",
   "execution_count": 180,
   "metadata": {},
   "outputs": [
    {
     "name": "stdout",
     "output_type": "stream",
     "text": [
      "p == 0.002132 (P <= 0.05), sample does NOT look Gaussian (reject H0)\n"
     ]
    }
   ],
   "source": [
    "from scipy.stats import kstest\n",
    "\n",
    "extresid = (extresid - np.mean(extresid))/np.std(extresid)\n",
    "# dataset will be STANDARDIZED before conducting kstest.'\n",
    "\n",
    "confidence_level = 0.95\n",
    "significance_level = 1 - confidence_level\n",
    "stat, p_value = kstest(extresid, cdf = 'norm')\n",
    "print(f'p == {p_value:.6f}', end='')\n",
    "if p > significance_level:\n",
    "    print(f' (p > {significance_level:.2f}), sample looks Gaussian (fail to reject H0)')\n",
    "else:\n",
    "    print(f' (P <= {significance_level:.2f}), sample does NOT look Gaussian (reject H0)') "
   ]
  },
  {
   "cell_type": "markdown",
   "metadata": {},
   "source": [
    "## Scatter Plot (Checking A3: Independent)\n",
    "\n",
    "We tested normality above and no autocorrelation + normality means independence. If you observe no patterns then it is likely that the no-autocorelation assumption is met then we draw the conclusion that error terms are independent."
   ]
  },
  {
   "cell_type": "code",
   "execution_count": 181,
   "metadata": {},
   "outputs": [
    {
     "data": {
      "image/png": "[encoded data removed]",
      "text/plain": [
       "<Figure size 432x288 with 1 Axes>"
      ]
     },
     "metadata": {
      "needs_background": "light"
     },
     "output_type": "display_data"
    }
   ],
   "source": [
    "et = model.resid\n",
    "et_1 = et.shift(1)\n",
    "\n",
    "plt.scatter(et_1[1:], et[1:], s = 1)\n",
    "plt.show()"
   ]
  },
  {
   "cell_type": "markdown",
   "metadata": {},
   "source": [
    "## Durbin–Watson statistic (Checking A3: Independent)\n",
    "\n",
    "The Durbin–Watson statistic is a test statistic used to detect the presence of autocorrelation at lag 1 in the residuals (prediction errors) from a regression analysis:\n",
    "\n",
    "DW $\\approx$ 0: we can say that there is a strongly positive autocorrelation;\n",
    "\n",
    "DW $\\approx$ 2: we can say that there is no autocorrelation ;\n",
    "\n",
    "DW $\\approx$ 4: we can say that there is a strongly negative autocorrelation."
   ]
  },
  {
   "cell_type": "code",
   "execution_count": 182,
   "metadata": {},
   "outputs": [
    {
     "name": "stdout",
     "output_type": "stream",
     "text": [
      "Durbin-Watson statistic: 1.48294, implying a positive autocorrelation\n"
     ]
    }
   ],
   "source": [
    "dw = np.sum(np.diff(model.resid.values) ** 2.0) / model.ssr\n",
    "print(f'Durbin-Watson statistic: {dw:.5f}', end = '')\n",
    "if dw == 4:\n",
    "    print(', implying a PERFECT NEGATIVE autocorrelation!')\n",
    "elif dw < 4 and dw > 2:\n",
    "    print(', implying a negative autocorrelation')\n",
    "elif dw == 2:\n",
    "    print(', implying NO autocorrelation AT ALL!')\n",
    "elif dw > 0 and dw < 2:\n",
    "    print(', implying a positive autocorrelation')\n",
    "elif dw == 0:\n",
    "    print(', implying a PERFECT POSITIVE autocorrelation')\n",
    "else:\n",
    "    print(', This is IMPOSSIBLE!!!')"
   ]
  },
  {
   "cell_type": "markdown",
   "metadata": {},
   "source": [
    "## Externally Studentized Residual Plots (Checking A1 to A4 and A6)\n",
    "\n",
    "1. If you observe pattern (a), i.e., there is no noticeable pattern, the points are around zero and most of them are inside the band |$r_i$| ≤ 2, then we can say that A1 to A4 are likely met;\n",
    "2. If you observe pattern (b), it means that the variance of error increases when $\\hat{y}$ increase; \n",
    "3. If you observe pattern (c), it means that the variance of error decreases when $\\hat{y}$ increase;\n",
    "4. If you observe pattern (d), it means that the variance is relatively small for smaller and larger values of $\\hat{y}$, but relatively large for the moderate values of $\\hat{y}$.\n",
    "5. If you observe patterns (e) or (f), it suggest that the regression model may be nonlinear or we may miss one or more significant terms.\n",
    "\n",
    "<img src=\"esr.png\" alt=\"externally-studentized-residual-plot\" style=\"width: 300px;\"/>"
   ]
  },
  {
   "cell_type": "code",
   "execution_count": null,
   "metadata": {},
   "outputs": [],
   "source": [
    "import matplotlib.pyplot as plt\n",
    "extresid = model.get_influence().resid_studentized_external\n",
    "pred = model.predict()\n",
    "\n",
    "plt.scatter(pred, extresid, s = 1)\n",
    "plt.xlabel('ŷ (predicted dependent variable)')\n",
    "plt.ylabel('ri (i.e. y[i] - ŷ[i])')\n",
    "plt.axhline(y=2, color='g', linestyle='-.', linewidth = 0.75)\n",
    "plt.axhline(y=0, color='r', linestyle='-.', linewidth = 0.75)\n",
    "plt.axhline(y=-2, color='g', linestyle='-.', linewidth = 0.75)\n",
    "plt.title('Externally Studentized Residual Plot')\n",
    "plt.show()\n",
    "\n",
    "## T-Test for sample mean (Checking A1: Zero Mean)"
   ]
  },
  {
   "cell_type": "markdown",
   "metadata": {},
   "source": [
    "## Pearson's correlation coefficient (Checking A5: Multicollinearity)\n",
    "\n",
    "Pearson's correlation matrix could help. However, among all explanatory variables it ONLY shows the association between any two variables, ignoring other explanatory variables. However, the multicollinearity involves associations among all explanatory variables."
   ]
  },
  {
   "cell_type": "code",
   "execution_count": null,
   "metadata": {},
   "outputs": [],
   "source": [
    "corr = df[['X1', 'X2', 'X3', 'X4']].corr()\n",
    "sns.heatmap(corr, annot=False, cmap=plt.cm.Blues)"
   ]
  },
  {
   "cell_type": "markdown",
   "metadata": {},
   "source": [
    "## Variance Inflation Factor (Checking A5: Multicollinearity)\n",
    "\n",
    "Compared with correlation coefficient, VIF is a more proper way to detect multicollinearity. It provides an index that measures how much the variance of an estimated regression coefficient is increased because of collinearity."
   ]
  },
  {
   "cell_type": "code",
   "execution_count": null,
   "metadata": {},
   "outputs": [],
   "source": [
    "from statsmodels.stats.outliers_influence import variance_inflation_factor\n",
    "\n",
    "X = df[['X1', 'X2', 'X3', 'X4']]\n",
    "\n",
    "for i in range(X.shape[1]):\n",
    "    vif = variance_inflation_factor(X.values, i)\n",
    "    print(f'[{X.columns[i]}] vif == {vif:.5f}: ', end = '')\n",
    "    if vif > 10:\n",
    "        print('multicollinearity is SERIOUS')\n",
    "    else:\n",
    "        print('multicollinearity is NOT that serious')"
   ]
  },
  {
   "cell_type": "markdown",
   "metadata": {},
   "source": [
    "## Component-Component Plus Residual Plot (Checking A6: Linear)\n",
    "\n",
    "If the partial residual plot for $X_j$ shows a straight line, it is an indication that the true relationship between the response variable Y and $X_j$ is straight-line, when all other variables are taken into account. If the plot shows a non-linear relationship , it is an indication that $X_j$ (partially) affects $y$ in a non-linear fashion."
   ]
  },
  {
   "cell_type": "code",
   "execution_count": null,
   "metadata": {},
   "outputs": [],
   "source": [
    "fig1 = plt.figure(figsize=(20, 10))\n",
    "sm.graphics.plot_ccpr_grid(model, fig=fig1)\n",
    "plt.show()"
   ]
  },
  {
   "cell_type": "markdown",
   "metadata": {},
   "source": [
    "# Part II. Remedies\n",
    "\n",
    "This part is still under developing...I will push the latest version when it is done.\n",
    "Thanks!"
   ]
  }
 ],
 "metadata": {
  "kernelspec": {
   "display_name": "Python 3",
   "language": "python",
   "name": "python3"
  },
  "language_info": {
   "codemirror_mode": {
    "name": "ipython",
    "version": 3
   },
   "file_extension": ".py",
   "mimetype": "text/x-python",
   "name": "python",
   "nbconvert_exporter": "python",
   "pygments_lexer": "ipython3",
   "version": "3.7.3"
  }
 },
 "nbformat": 4,
 "nbformat_minor": 4
}
