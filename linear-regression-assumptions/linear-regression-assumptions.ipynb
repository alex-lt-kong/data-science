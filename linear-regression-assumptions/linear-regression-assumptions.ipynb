{
 "cells": [
  {
   "cell_type": "markdown",
   "metadata": {},
   "source": [
    "# Six Assumptions of Linear Regression\n",
    "\n",
    "A1. $\\epsilon_1$, $\\epsilon_2$, ..., $\\epsilon_n$ have zero mean.\n",
    "\n",
    "A2. $\\epsilon_1$, $\\epsilon_2$, ..., $\\epsilon_n$ are normally distributed.\n",
    "\n",
    "A3. $\\epsilon_1$, $\\epsilon_2$, ..., $\\epsilon_n$ are indepedent.\n",
    "\n",
    "A4. $\\epsilon_1$, $\\epsilon_2$, ..., $\\epsilon_n$ have a common unknown variance $\\sigma^2$.\n",
    "\n",
    "A5. There is no linear relationship among the explanatory variables, i.e., there is no multicollinearity\n",
    "\n",
    "A6.  Linearity: The true relationship between the mean of the response variable\n",
    "\n",
    "<center>\n",
    "E[Y]= $\\beta_0$ + $\\beta_1 x_1$  + $\\beta_2 x_2$ + ... +  + $\\beta_k x_k$\n",
    "</center>\n",
    "    \n",
    "and the explanatory variables $x_1$, $x_1$, ... , $x_k$ is linear."
   ]
  },
  {
   "cell_type": "markdown",
   "metadata": {},
   "source": [
    "# Part I. Assumptions Tests\n",
    "\n",
    "First, take a look at the dataset."
   ]
  },
  {
   "cell_type": "code",
   "execution_count": 302,
   "metadata": {},
   "outputs": [
    {
     "data": {
      "text/html": [
       "<table class=\"simpletable\">\n",
       "<caption>OLS Regression Results</caption>\n",
       "<tr>\n",
       "  <th>Dep. Variable:</th>            <td>y</td>        <th>  R-squared:         </th> <td>   0.536</td> \n",
       "</tr>\n",
       "<tr>\n",
       "  <th>Model:</th>                   <td>OLS</td>       <th>  Adj. R-squared:    </th> <td>   0.532</td> \n",
       "</tr>\n",
       "<tr>\n",
       "  <th>Method:</th>             <td>Least Squares</td>  <th>  F-statistic:       </th> <td>   156.0</td> \n",
       "</tr>\n",
       "<tr>\n",
       "  <th>Date:</th>             <td>Sun, 28 Mar 2021</td> <th>  Prob (F-statistic):</th> <td>1.18e-88</td> \n",
       "</tr>\n",
       "<tr>\n",
       "  <th>Time:</th>                 <td>14:59:42</td>     <th>  Log-Likelihood:    </th> <td> -6130.0</td> \n",
       "</tr>\n",
       "<tr>\n",
       "  <th>No. Observations:</th>      <td>   546</td>      <th>  AIC:               </th> <td>1.227e+04</td>\n",
       "</tr>\n",
       "<tr>\n",
       "  <th>Df Residuals:</th>          <td>   541</td>      <th>  BIC:               </th> <td>1.229e+04</td>\n",
       "</tr>\n",
       "<tr>\n",
       "  <th>Df Model:</th>              <td>     4</td>      <th>                     </th>     <td> </td>    \n",
       "</tr>\n",
       "<tr>\n",
       "  <th>Covariance Type:</th>      <td>nonrobust</td>    <th>                     </th>     <td> </td>    \n",
       "</tr>\n",
       "</table>\n",
       "<table class=\"simpletable\">\n",
       "<tr>\n",
       "      <td></td>         <th>coef</th>     <th>std err</th>      <th>t</th>      <th>P>|t|</th>  <th>[0.025</th>    <th>0.975]</th>  \n",
       "</tr>\n",
       "<tr>\n",
       "  <th>Intercept</th> <td>-4009.5500</td> <td> 3603.109</td> <td>   -1.113</td> <td> 0.266</td> <td>-1.11e+04</td> <td> 3068.248</td>\n",
       "</tr>\n",
       "<tr>\n",
       "  <th>x1</th>        <td>    5.4292</td> <td>    0.369</td> <td>   14.703</td> <td> 0.000</td> <td>    4.704</td> <td>    6.155</td>\n",
       "</tr>\n",
       "<tr>\n",
       "  <th>x2</th>        <td> 2824.6138</td> <td> 1214.808</td> <td>    2.325</td> <td> 0.020</td> <td>  438.296</td> <td> 5210.932</td>\n",
       "</tr>\n",
       "<tr>\n",
       "  <th>x3</th>        <td> 1.711e+04</td> <td> 1734.434</td> <td>    9.862</td> <td> 0.000</td> <td> 1.37e+04</td> <td> 2.05e+04</td>\n",
       "</tr>\n",
       "<tr>\n",
       "  <th>x4</th>        <td> 7634.8970</td> <td> 1007.974</td> <td>    7.574</td> <td> 0.000</td> <td> 5654.874</td> <td> 9614.920</td>\n",
       "</tr>\n",
       "</table>\n",
       "<table class=\"simpletable\">\n",
       "<tr>\n",
       "  <th>Omnibus:</th>       <td>94.915</td> <th>  Durbin-Watson:     </th> <td>   1.483</td>\n",
       "</tr>\n",
       "<tr>\n",
       "  <th>Prob(Omnibus):</th> <td> 0.000</td> <th>  Jarque-Bera (JB):  </th> <td> 232.320</td>\n",
       "</tr>\n",
       "<tr>\n",
       "  <th>Skew:</th>          <td> 0.893</td> <th>  Prob(JB):          </th> <td>3.57e-51</td>\n",
       "</tr>\n",
       "<tr>\n",
       "  <th>Kurtosis:</th>      <td> 5.650</td> <th>  Cond. No.          </th> <td>2.64e+04</td>\n",
       "</tr>\n",
       "</table><br/><br/>Notes:<br/>[1] Standard Errors assume that the covariance matrix of the errors is correctly specified.<br/>[2] The condition number is large, 2.64e+04. This might indicate that there are<br/>strong multicollinearity or other numerical problems."
      ],
      "text/plain": [
       "<class 'statsmodels.iolib.summary.Summary'>\n",
       "\"\"\"\n",
       "                            OLS Regression Results                            \n",
       "==============================================================================\n",
       "Dep. Variable:                      y   R-squared:                       0.536\n",
       "Model:                            OLS   Adj. R-squared:                  0.532\n",
       "Method:                 Least Squares   F-statistic:                     156.0\n",
       "Date:                Sun, 28 Mar 2021   Prob (F-statistic):           1.18e-88\n",
       "Time:                        14:59:42   Log-Likelihood:                -6130.0\n",
       "No. Observations:                 546   AIC:                         1.227e+04\n",
       "Df Residuals:                     541   BIC:                         1.229e+04\n",
       "Df Model:                           4                                         \n",
       "Covariance Type:            nonrobust                                         \n",
       "==============================================================================\n",
       "                 coef    std err          t      P>|t|      [0.025      0.975]\n",
       "------------------------------------------------------------------------------\n",
       "Intercept  -4009.5500   3603.109     -1.113      0.266   -1.11e+04    3068.248\n",
       "x1             5.4292      0.369     14.703      0.000       4.704       6.155\n",
       "x2          2824.6138   1214.808      2.325      0.020     438.296    5210.932\n",
       "x3          1.711e+04   1734.434      9.862      0.000    1.37e+04    2.05e+04\n",
       "x4          7634.8970   1007.974      7.574      0.000    5654.874    9614.920\n",
       "==============================================================================\n",
       "Omnibus:                       94.915   Durbin-Watson:                   1.483\n",
       "Prob(Omnibus):                  0.000   Jarque-Bera (JB):              232.320\n",
       "Skew:                           0.893   Prob(JB):                     3.57e-51\n",
       "Kurtosis:                       5.650   Cond. No.                     2.64e+04\n",
       "==============================================================================\n",
       "\n",
       "Notes:\n",
       "[1] Standard Errors assume that the covariance matrix of the errors is correctly specified.\n",
       "[2] The condition number is large, 2.64e+04. This might indicate that there are\n",
       "strong multicollinearity or other numerical problems.\n",
       "\"\"\""
      ]
     },
     "execution_count": 302,
     "metadata": {},
     "output_type": "execute_result"
    }
   ],
   "source": [
    "import numpy as np\n",
    "import pandas as pd\n",
    "import statsmodels.formula.api as smf\n",
    "\n",
    "df = pd.read_csv('hprice.txt', sep='\\t')\n",
    "df = df[['Y', 'X1', 'X2', 'X3', 'X4']]\n",
    "patsy_formula = 'y ~ x1 + x2 + x3 + x4'\n",
    "data = pd.DataFrame({'x1': df['X1'], 'x2': df['X2'], 'x3': df['X3'], 'x4': df['X4'], 'y': df['Y']})\n",
    "model = smf.ols(formula = patsy_formula, data = data).fit()\n",
    "extresid = model.get_influence().resid_studentized_external\n",
    "model.summary()"
   ]
  },
  {
   "cell_type": "markdown",
   "metadata": {},
   "source": [
    "## Student's T-test (Checking A1: Zero Mean)"
   ]
  },
  {
   "cell_type": "code",
   "execution_count": 303,
   "metadata": {},
   "outputs": [
    {
     "name": "stdout",
     "output_type": "stream",
     "text": [
      "p == 0.992227 (p > 0.05), sample mean equal to 0 (fail to reject H0)\n"
     ]
    }
   ],
   "source": [
    "import scipy as sp\n",
    "\n",
    "confidence_level = 0.95\n",
    "significance_level = 1 - confidence_level\n",
    "population_mean = 0\n",
    "stat, p_value = sp.stats.ttest_1samp(a=extresid, popmean=population_mean)\n",
    "print(f'p == {p_value:.6f}', end='')\n",
    "if p_value > significance_level:\n",
    "    print(f' (p > {significance_level:.2f}), sample mean equal to {population_mean} (fail to reject H0)')\n",
    "else:\n",
    "    print(f' (P <= {significance_level:.2f}), sample mean does NOT equal to {population_mean} (reject H0)')   "
   ]
  },
  {
   "cell_type": "markdown",
   "metadata": {},
   "source": [
    "## Q-Q Plot (Checking A2: Normally Distributed)\n",
    "\n",
    "If the data is normally distributed, the points in the QQ-normal plot lie on a straight diagonal line. However, more often than not, many cases are not that clear-cut just like the following one."
   ]
  },
  {
   "cell_type": "code",
   "execution_count": 304,
   "metadata": {},
   "outputs": [
    {
     "data": {
      "image/png": "[encoded data removed]",
      "text/plain": [
       "<Figure size 432x288 with 1 Axes>"
      ]
     },
     "metadata": {
      "needs_background": "light"
     },
     "output_type": "display_data"
    }
   ],
   "source": [
    "import statsmodels.api as sm\n",
    "import matplotlib.pyplot as plt\n",
    "    \n",
    "sm.qqplot(extresid, line='45')\n",
    "plt.show()"
   ]
  },
  {
   "cell_type": "markdown",
   "metadata": {},
   "source": [
    "## Normality Tests (Checking A2: Normally Distributed)\n",
    "\n",
    "#### Shapiro–Wilk test"
   ]
  },
  {
   "cell_type": "code",
   "execution_count": 305,
   "metadata": {},
   "outputs": [
    {
     "name": "stdout",
     "output_type": "stream",
     "text": [
      "p == 0.000000 (P <= 0.05), sample does NOT look Gaussian (reject H0)\n"
     ]
    }
   ],
   "source": [
    "from scipy.stats import shapiro\n",
    "\n",
    "assert len(extresid) >= 3 and len(extresid) <= 5000\n",
    "assert np.isnan(extresid).any() == False\n",
    "'''\n",
    "WARNING: According to page 228 of lecture-2-3_Ch1_MFIT5003_Fall2020-21_with_MJD.pdf,\n",
    "the allowed dataset length for Shapiro-Wilk test is [3, 5000]\n",
    "'''\n",
    "confidence_level = 0.95\n",
    "significance_level = 1 - confidence_level\n",
    "stat, p_value = shapiro(extresid)\n",
    "print(f'p == {p_value:.6f}', end='')\n",
    "if p_value > significance_level:\n",
    "    print(f' (p > {significance_level:.2f}), sample looks Gaussian (fail to reject H0)')\n",
    "else:\n",
    "    print(f' (P <= {significance_level:.2f}), sample does NOT look Gaussian (reject H0)')    "
   ]
  },
  {
   "cell_type": "markdown",
   "metadata": {},
   "source": [
    " #### Kolmogorov-Smirnov test (KS test)"
   ]
  },
  {
   "cell_type": "code",
   "execution_count": 306,
   "metadata": {},
   "outputs": [
    {
     "name": "stdout",
     "output_type": "stream",
     "text": [
      "p == 0.002132 (P <= 0.05), sample does NOT look Gaussian (reject H0)\n"
     ]
    }
   ],
   "source": [
    "from scipy.stats import kstest\n",
    "\n",
    "extresid = (extresid - np.mean(extresid))/np.std(extresid)\n",
    "# dataset will be STANDARDIZED before conducting kstest.'\n",
    "\n",
    "confidence_level = 0.95\n",
    "significance_level = 1 - confidence_level\n",
    "stat, p_value = kstest(extresid, cdf = 'norm')\n",
    "print(f'p == {p_value:.6f}', end='')\n",
    "if p_value > significance_level:\n",
    "    print(f' (p > {significance_level:.2f}), sample looks Gaussian (fail to reject H0)')\n",
    "else:\n",
    "    print(f' (P <= {significance_level:.2f}), sample does NOT look Gaussian (reject H0)') "
   ]
  },
  {
   "cell_type": "markdown",
   "metadata": {},
   "source": [
    "## Scatter Plot (Checking A3: Independent)\n",
    "\n",
    "We tested normality above. No autocorrelation + normality means independence. In the following, we plot $\\epsilon_i$ against $\\epsilon_{i-1}$. If you observe no patterns then it is likely that the no-autocorelation assumption is met then we draw the conclusion that error terms are independent."
   ]
  },
  {
   "cell_type": "code",
   "execution_count": 307,
   "metadata": {},
   "outputs": [
    {
     "data": {
      "image/png": "[encoded data removed]",
      "text/plain": [
       "<Figure size 432x288 with 1 Axes>"
      ]
     },
     "metadata": {
      "needs_background": "light"
     },
     "output_type": "display_data"
    }
   ],
   "source": [
    "et = model.resid\n",
    "et_1 = et.shift(1)\n",
    "\n",
    "plt.scatter(x=et_1[1:], y=et[1:], s = 1)\n",
    "plt.show()"
   ]
  },
  {
   "cell_type": "markdown",
   "metadata": {},
   "source": [
    "## Durbin–Watson statistic (Checking A3: Independent)\n",
    "\n",
    "The Durbin–Watson statistic is a test statistic used to detect the presence of autocorrelation at lag 1 in the residuals (prediction errors) from a regression analysis:\n",
    "\n",
    "DW $\\approx$ 0: we can say that there is a strong positive autocorrelation;\n",
    "\n",
    "DW $\\approx$ 2: we can say that there is no autocorrelation ;\n",
    "\n",
    "DW $\\approx$ 4: we can say that there is a strong negative autocorrelation."
   ]
  },
  {
   "cell_type": "code",
   "execution_count": 308,
   "metadata": {},
   "outputs": [
    {
     "name": "stdout",
     "output_type": "stream",
     "text": [
      "Durbin-Watson statistic: 1.48294, implying a STRONG positive autocorrelation\n"
     ]
    }
   ],
   "source": [
    "from statsmodels.stats.stattools import durbin_watson\n",
    "\n",
    "dw = durbin_watson(model.resid.values)\n",
    "print(f'Durbin-Watson statistic: {dw:.5f}', end = '')\n",
    "if 2.5 <= dw <= 4:\n",
    "    print(', implying a STRONG negative autocorrelation')\n",
    "elif 1.5 < dw < 2.5:\n",
    "    print(', implying no significant autocorrelation')\n",
    "elif 0 <= dw <= 1.5:\n",
    "    print(', implying a STRONG positive autocorrelation')\n",
    "else:\n",
    "    print(', This is IMPOSSIBLE!!!')"
   ]
  },
  {
   "cell_type": "markdown",
   "metadata": {},
   "source": [
    "## Externally Studentized Residual Plots (Checking A1 to A4 and A6)\n",
    "\n",
    "1. If you observe pattern (a), i.e., there is no noticeable pattern, the points are around zero and most of them are inside the band |$r_i$| ≤ 2, then we can say that A1 to A4 are likely met;\n",
    "2. If you observe pattern (b), it means that the variance of error increases when $\\hat{y}$ increase; \n",
    "3. If you observe pattern (c), it means that the variance of error decreases when $\\hat{y}$ increase;\n",
    "4. If you observe pattern (d), it means that the variance is relatively small for smaller and larger values of $\\hat{y}$, but relatively large for the moderate values of $\\hat{y}$.\n",
    "5. If you observe patterns (e) or (f), it suggest that the regression model may be nonlinear or we may miss one or more significant terms.\n",
    "\n",
    "<img src=\"esr.png\" alt=\"externally-studentized-residual-plot\" style=\"width: 300px;\"/>"
   ]
  },
  {
   "cell_type": "code",
   "execution_count": 309,
   "metadata": {},
   "outputs": [
    {
     "data": {
      "image/png": "[encoded data removed]",
      "text/plain": [
       "<Figure size 432x288 with 1 Axes>"
      ]
     },
     "metadata": {
      "needs_background": "light"
     },
     "output_type": "display_data"
    }
   ],
   "source": [
    "import matplotlib.pyplot as plt\n",
    "extresid = model.get_influence().resid_studentized_external\n",
    "pred = model.predict()\n",
    "\n",
    "plt.scatter(pred, extresid, s = 1)\n",
    "plt.xlabel('y-hat (predicted dependent variable)')\n",
    "plt.ylabel('ri (i.e. y[i] - y-hat[i])')\n",
    "plt.axhline(y=2, color='g', linestyle='-.', linewidth = 0.75)\n",
    "plt.axhline(y=0, color='r', linestyle='-.', linewidth = 0.75)\n",
    "plt.axhline(y=-2, color='g', linestyle='-.', linewidth = 0.75)\n",
    "plt.title('Externally Studentized Residual Plot')\n",
    "plt.show()\n",
    "\n",
    "## T-Test for sample mean (Checking A1: Zero Mean)"
   ]
  },
  {
   "cell_type": "markdown",
   "metadata": {},
   "source": [
    "## Pearson's correlation coefficient (Checking A5: Multicollinearity)\n",
    "\n",
    "Pearson's correlation matrix could help. However, among all explanatory variables it ONLY shows the association between any two variables, ignoring other explanatory variables. However, the multicollinearity involves associations among all explanatory variables."
   ]
  },
  {
   "cell_type": "code",
   "execution_count": 310,
   "metadata": {},
   "outputs": [
    {
     "data": {
      "text/plain": [
       "<matplotlib.axes._subplots.AxesSubplot at 0x7fba9efbd438>"
      ]
     },
     "execution_count": 310,
     "metadata": {},
     "output_type": "execute_result"
    },
    {
     "data": {
      "image/png": "[encoded data removed]",
      "text/plain": [
       "<Figure size 432x288 with 2 Axes>"
      ]
     },
     "metadata": {
      "needs_background": "light"
     },
     "output_type": "display_data"
    }
   ],
   "source": [
    "import seaborn as sns\n",
    "\n",
    "corr = df[['X1', 'X2', 'X3', 'X4']].corr()\n",
    "sns.heatmap(corr, annot=False, cmap=plt.cm.Blues)"
   ]
  },
  {
   "cell_type": "markdown",
   "metadata": {},
   "source": [
    "## Variance Inflation Factor (Checking A5: Multicollinearity)\n",
    "\n",
    "Compared with correlation coefficient, VIF is a more proper way to detect multicollinearity. It provides an index that measures how much the variance of an estimated regression coefficient is increased because of collinearity."
   ]
  },
  {
   "cell_type": "code",
   "execution_count": 311,
   "metadata": {},
   "outputs": [
    {
     "name": "stdout",
     "output_type": "stream",
     "text": [
      "[X1] vif == 1.04705: multicollinearity is NOT that serious\n",
      "[X2] vif == 1.31085: multicollinearity is NOT that serious\n",
      "[X3] vif == 1.23920: multicollinearity is NOT that serious\n",
      "[X4] vif == 1.25109: multicollinearity is NOT that serious\n",
      "[constant] vif == 21.24698: multicollinearity is SERIOUS\n"
     ]
    }
   ],
   "source": [
    "from statsmodels.stats.outliers_influence import variance_inflation_factor\n",
    "\n",
    "X = df[['X1', 'X2', 'X3', 'X4']]\n",
    "X['constant'] = 1 # add a constant as the intercept\n",
    "for i in range(X.shape[1]):\n",
    "    vif = variance_inflation_factor(X.values, i)\n",
    "    print(f'[{X.columns[i]}] vif == {vif:.5f}: ', end = '')\n",
    "    if vif > 10:\n",
    "    # 10: An indication that multicollinearity may be present\n",
    "    # 100: Certain multicollinearity among the variables\n",
    "        print('multicollinearity is SERIOUS')\n",
    "    else:\n",
    "        print('multicollinearity is NOT that serious')"
   ]
  },
  {
   "cell_type": "markdown",
   "metadata": {},
   "source": [
    "## Component-Component Plus Residual Plot (Checking A6: Linear)\n",
    "\n",
    "If the partial residual plot for $X_j$ shows a straight line, it is an indication that the true relationship between the response variable Y and $X_j$ is straight-line, when all other variables are taken into account. If the plot shows a non-linear relationship , it is an indication that $X_j$ (partially) affects $y$ in a non-linear fashion."
   ]
  },
  {
   "cell_type": "code",
   "execution_count": 312,
   "metadata": {},
   "outputs": [
    {
     "data": {
      "image/png": "[encoded data removed]",
      "text/plain": [
       "<Figure size 1440x720 with 4 Axes>"
      ]
     },
     "metadata": {
      "needs_background": "light"
     },
     "output_type": "display_data"
    }
   ],
   "source": [
    "fig1 = plt.figure(figsize=(20, 10))\n",
    "sm.graphics.plot_ccpr_grid(model, fig=fig1)\n",
    "plt.show()"
   ]
  },
  {
   "cell_type": "markdown",
   "metadata": {},
   "source": [
    "# Part II. Remedies\n",
    "\n",
    "This part is still under developing...I will push the latest version from time to time.\n",
    "\n",
    "Thanks!"
   ]
  },
  {
   "cell_type": "markdown",
   "metadata": {},
   "source": [
    "## Box-Cox Transformation\n",
    "### Pre-Transformation"
   ]
  },
  {
   "cell_type": "code",
   "execution_count": 313,
   "metadata": {},
   "outputs": [
    {
     "data": {
      "text/html": [
       "<table class=\"simpletable\">\n",
       "<caption>OLS Regression Results</caption>\n",
       "<tr>\n",
       "  <th>Dep. Variable:</th>          <td>price</td>      <th>  R-squared:         </th> <td>   0.843</td>\n",
       "</tr>\n",
       "<tr>\n",
       "  <th>Model:</th>                   <td>OLS</td>       <th>  Adj. R-squared:    </th> <td>   0.836</td>\n",
       "</tr>\n",
       "<tr>\n",
       "  <th>Method:</th>             <td>Least Squares</td>  <th>  F-statistic:       </th> <td>   137.8</td>\n",
       "</tr>\n",
       "<tr>\n",
       "  <th>Date:</th>             <td>Sun, 28 Mar 2021</td> <th>  Prob (F-statistic):</th> <td>2.01e-40</td>\n",
       "</tr>\n",
       "<tr>\n",
       "  <th>Time:</th>                 <td>14:59:44</td>     <th>  Log-Likelihood:    </th> <td> -918.40</td>\n",
       "</tr>\n",
       "<tr>\n",
       "  <th>No. Observations:</th>      <td>   108</td>      <th>  AIC:               </th> <td>   1847.</td>\n",
       "</tr>\n",
       "<tr>\n",
       "  <th>Df Residuals:</th>          <td>   103</td>      <th>  BIC:               </th> <td>   1860.</td>\n",
       "</tr>\n",
       "<tr>\n",
       "  <th>Df Model:</th>              <td>     4</td>      <th>                     </th>     <td> </td>   \n",
       "</tr>\n",
       "<tr>\n",
       "  <th>Covariance Type:</th>      <td>nonrobust</td>    <th>                     </th>     <td> </td>   \n",
       "</tr>\n",
       "</table>\n",
       "<table class=\"simpletable\">\n",
       "<tr>\n",
       "        <td></td>          <th>coef</th>     <th>std err</th>      <th>t</th>      <th>P>|t|</th>  <th>[0.025</th>    <th>0.975]</th>  \n",
       "</tr>\n",
       "<tr>\n",
       "  <th>Intercept</th>    <td>-1.783e+04</td> <td> 1173.047</td> <td>  -15.196</td> <td> 0.000</td> <td>-2.02e+04</td> <td>-1.55e+04</td>\n",
       "</tr>\n",
       "<tr>\n",
       "  <th>colorscore</th>   <td>  262.8814</td> <td>   80.759</td> <td>    3.255</td> <td> 0.002</td> <td>  102.715</td> <td>  423.048</td>\n",
       "</tr>\n",
       "<tr>\n",
       "  <th>clarityscore</th> <td>  561.3754</td> <td>   81.822</td> <td>    6.861</td> <td> 0.000</td> <td>  399.101</td> <td>  723.650</td>\n",
       "</tr>\n",
       "<tr>\n",
       "  <th>cutscore</th>     <td>   68.7845</td> <td>  110.716</td> <td>    0.621</td> <td> 0.536</td> <td> -150.794</td> <td>  288.363</td>\n",
       "</tr>\n",
       "<tr>\n",
       "  <th>cbrt_carat</th>   <td> 2.001e+04</td> <td>  868.733</td> <td>   23.031</td> <td> 0.000</td> <td> 1.83e+04</td> <td> 2.17e+04</td>\n",
       "</tr>\n",
       "</table>\n",
       "<table class=\"simpletable\">\n",
       "<tr>\n",
       "  <th>Omnibus:</th>       <td>44.472</td> <th>  Durbin-Watson:     </th> <td>   1.874</td>\n",
       "</tr>\n",
       "<tr>\n",
       "  <th>Prob(Omnibus):</th> <td> 0.000</td> <th>  Jarque-Bera (JB):  </th> <td> 128.626</td>\n",
       "</tr>\n",
       "<tr>\n",
       "  <th>Skew:</th>          <td> 1.481</td> <th>  Prob(JB):          </th> <td>1.17e-28</td>\n",
       "</tr>\n",
       "<tr>\n",
       "  <th>Kurtosis:</th>      <td> 7.451</td> <th>  Cond. No.          </th> <td>    91.3</td>\n",
       "</tr>\n",
       "</table><br/><br/>Notes:<br/>[1] Standard Errors assume that the covariance matrix of the errors is correctly specified."
      ],
      "text/plain": [
       "<class 'statsmodels.iolib.summary.Summary'>\n",
       "\"\"\"\n",
       "                            OLS Regression Results                            \n",
       "==============================================================================\n",
       "Dep. Variable:                  price   R-squared:                       0.843\n",
       "Model:                            OLS   Adj. R-squared:                  0.836\n",
       "Method:                 Least Squares   F-statistic:                     137.8\n",
       "Date:                Sun, 28 Mar 2021   Prob (F-statistic):           2.01e-40\n",
       "Time:                        14:59:44   Log-Likelihood:                -918.40\n",
       "No. Observations:                 108   AIC:                             1847.\n",
       "Df Residuals:                     103   BIC:                             1860.\n",
       "Df Model:                           4                                         \n",
       "Covariance Type:            nonrobust                                         \n",
       "================================================================================\n",
       "                   coef    std err          t      P>|t|      [0.025      0.975]\n",
       "--------------------------------------------------------------------------------\n",
       "Intercept    -1.783e+04   1173.047    -15.196      0.000   -2.02e+04   -1.55e+04\n",
       "colorscore     262.8814     80.759      3.255      0.002     102.715     423.048\n",
       "clarityscore   561.3754     81.822      6.861      0.000     399.101     723.650\n",
       "cutscore        68.7845    110.716      0.621      0.536    -150.794     288.363\n",
       "cbrt_carat    2.001e+04    868.733     23.031      0.000    1.83e+04    2.17e+04\n",
       "==============================================================================\n",
       "Omnibus:                       44.472   Durbin-Watson:                   1.874\n",
       "Prob(Omnibus):                  0.000   Jarque-Bera (JB):              128.626\n",
       "Skew:                           1.481   Prob(JB):                     1.17e-28\n",
       "Kurtosis:                       7.451   Cond. No.                         91.3\n",
       "==============================================================================\n",
       "\n",
       "Notes:\n",
       "[1] Standard Errors assume that the covariance matrix of the errors is correctly specified.\n",
       "\"\"\""
      ]
     },
     "execution_count": 313,
     "metadata": {},
     "output_type": "execute_result"
    }
   ],
   "source": [
    "df = pd.read_csv('diamond.txt', sep='\\s+')\n",
    "df['cbrt_carat'] = df['carat'] ** (1 / 3)\n",
    "\n",
    "model = smf.ols(formula = 'price ~ colorscore + clarityscore + cutscore + cbrt_carat',\n",
    "                data = df[['price', 'colorscore', 'clarityscore', 'cutscore', 'cbrt_carat']]).fit()\n",
    "# This formula is given as domain knowledge\n",
    "model.summary()"
   ]
  },
  {
   "cell_type": "code",
   "execution_count": 314,
   "metadata": {},
   "outputs": [
    {
     "data": {
      "image/png": "[encoded data removed]",
      "text/plain": [
       "<Figure size 432x288 with 1 Axes>"
      ]
     },
     "metadata": {
      "needs_background": "light"
     },
     "output_type": "display_data"
    }
   ],
   "source": [
    "import matplotlib.pyplot as plt\n",
    "extresid = model.get_influence().resid_studentized_external\n",
    "pred = model.predict()\n",
    "\n",
    "plt.scatter(pred, extresid, s = 1)\n",
    "plt.xlabel('y-hat (predicted dependent variable)')\n",
    "plt.ylabel('ri (i.e. y[i] - y-hat[i])')\n",
    "plt.axhline(y=2, color='g', linestyle='-.', linewidth = 0.75)\n",
    "plt.axhline(y=0, color='r', linestyle='-.', linewidth = 0.75)\n",
    "plt.axhline(y=-2, color='g', linestyle='-.', linewidth = 0.75)\n",
    "plt.title('Externally Studentized Residual Plot')\n",
    "plt.show()"
   ]
  },
  {
   "cell_type": "markdown",
   "metadata": {},
   "source": [
    "The externally studentized residual plot implies non-constant variance"
   ]
  },
  {
   "cell_type": "code",
   "execution_count": 315,
   "metadata": {},
   "outputs": [
    {
     "data": {
      "image/png": "[encoded data removed]",
      "text/plain": [
       "<Figure size 432x288 with 1 Axes>"
      ]
     },
     "metadata": {
      "needs_background": "light"
     },
     "output_type": "display_data"
    }
   ],
   "source": [
    "import statsmodels.api as sm\n",
    "    \n",
    "sm.qqplot(extresid, line='45')\n",
    "plt.show()"
   ]
  },
  {
   "cell_type": "markdown",
   "metadata": {},
   "source": [
    "Q-Q plot indicates violation of normal distribution assumption\n",
    "\n",
    "### Transformation"
   ]
  },
  {
   "cell_type": "code",
   "execution_count": 316,
   "metadata": {},
   "outputs": [],
   "source": [
    "def box_cox_transformer(lambda1: float, X: np.ndarray, y: np.ndarray):\n",
    "\n",
    "    if lambda1 != 0:\n",
    "        BCy = (y ** lambda1 - 1) / lambda1\n",
    "    else:\n",
    "        BCy = np.log(y)\n",
    "    \n",
    "    BCfmodel = smf.ols(formula = 'BCy ~ x', data = {'BCy': BCy, 'x': X}).fit()\n",
    "\n",
    "    SSE_lambda = ((BCfmodel.predict() - BCy) ** 2).sum()\n",
    "\n",
    "    loglf = (lambda1 - 1) * ((np.log(y)).sum()) - len(y) * (np.log(SSE_lambda / len(y))) / 2\n",
    "\n",
    "    return { 'lambda': lambda1, 'loglf': loglf }\n",
    "\n",
    "def box_cox_transform_inverse(yt, lambda1=0):\n",
    "# http://www.css.cornell.edu/faculty/dgr2/_static/files/R_html/Transformations.html#3_transformation_and_back-transformation\n",
    "\n",
    "    assert lambda1 != 0 # Not implemented\n",
    "    return np.exp(np.log(1 + lambda1 * yt) / lambda1)"
   ]
  },
  {
   "cell_type": "code",
   "execution_count": 317,
   "metadata": {},
   "outputs": [
    {
     "data": {
      "image/png": "[encoded data removed]",
      "text/plain": [
       "<Figure size 432x288 with 1 Axes>"
      ]
     },
     "metadata": {
      "needs_background": "light"
     },
     "output_type": "display_data"
    },
    {
     "name": "stdout",
     "output_type": "stream",
     "text": [
      "lambda_fit: 0.09999999999994458\n"
     ]
    },
    {
     "data": {
      "text/html": [
       "<div>\n",
       "<style scoped>\n",
       "    .dataframe tbody tr th:only-of-type {\n",
       "        vertical-align: middle;\n",
       "    }\n",
       "\n",
       "    .dataframe tbody tr th {\n",
       "        vertical-align: top;\n",
       "    }\n",
       "\n",
       "    .dataframe thead th {\n",
       "        text-align: right;\n",
       "    }\n",
       "</style>\n",
       "<table border=\"1\" class=\"dataframe\">\n",
       "  <thead>\n",
       "    <tr style=\"text-align: right;\">\n",
       "      <th></th>\n",
       "      <th>index</th>\n",
       "      <th>colorscore</th>\n",
       "      <th>clarityscore</th>\n",
       "      <th>cutscore</th>\n",
       "      <th>carat</th>\n",
       "      <th>price</th>\n",
       "      <th>cbrt_carat</th>\n",
       "      <th>price_transformed</th>\n",
       "    </tr>\n",
       "  </thead>\n",
       "  <tbody>\n",
       "    <tr>\n",
       "      <th>0</th>\n",
       "      <td>1</td>\n",
       "      <td>7</td>\n",
       "      <td>6</td>\n",
       "      <td>4</td>\n",
       "      <td>0.33</td>\n",
       "      <td>1002</td>\n",
       "      <td>0.691042</td>\n",
       "      <td>9.956610</td>\n",
       "    </tr>\n",
       "    <tr>\n",
       "      <th>1</th>\n",
       "      <td>2</td>\n",
       "      <td>6</td>\n",
       "      <td>3</td>\n",
       "      <td>2</td>\n",
       "      <td>1.01</td>\n",
       "      <td>4986</td>\n",
       "      <td>1.003322</td>\n",
       "      <td>13.430159</td>\n",
       "    </tr>\n",
       "    <tr>\n",
       "      <th>2</th>\n",
       "      <td>3</td>\n",
       "      <td>7</td>\n",
       "      <td>3</td>\n",
       "      <td>4</td>\n",
       "      <td>1.01</td>\n",
       "      <td>5644</td>\n",
       "      <td>1.003322</td>\n",
       "      <td>13.722404</td>\n",
       "    </tr>\n",
       "    <tr>\n",
       "      <th>3</th>\n",
       "      <td>4</td>\n",
       "      <td>7</td>\n",
       "      <td>3</td>\n",
       "      <td>5</td>\n",
       "      <td>0.34</td>\n",
       "      <td>626</td>\n",
       "      <td>0.697953</td>\n",
       "      <td>9.039583</td>\n",
       "    </tr>\n",
       "    <tr>\n",
       "      <th>4</th>\n",
       "      <td>5</td>\n",
       "      <td>3</td>\n",
       "      <td>2</td>\n",
       "      <td>4</td>\n",
       "      <td>1.00</td>\n",
       "      <td>4032</td>\n",
       "      <td>1.000000</td>\n",
       "      <td>12.937815</td>\n",
       "    </tr>\n",
       "    <tr>\n",
       "      <th>...</th>\n",
       "      <td>...</td>\n",
       "      <td>...</td>\n",
       "      <td>...</td>\n",
       "      <td>...</td>\n",
       "      <td>...</td>\n",
       "      <td>...</td>\n",
       "      <td>...</td>\n",
       "      <td>...</td>\n",
       "    </tr>\n",
       "    <tr>\n",
       "      <th>103</th>\n",
       "      <td>104</td>\n",
       "      <td>2</td>\n",
       "      <td>1</td>\n",
       "      <td>2</td>\n",
       "      <td>1.03</td>\n",
       "      <td>2540</td>\n",
       "      <td>1.009902</td>\n",
       "      <td>11.901980</td>\n",
       "    </tr>\n",
       "    <tr>\n",
       "      <th>104</th>\n",
       "      <td>105</td>\n",
       "      <td>3</td>\n",
       "      <td>3</td>\n",
       "      <td>5</td>\n",
       "      <td>1.29</td>\n",
       "      <td>7513</td>\n",
       "      <td>1.088587</td>\n",
       "      <td>14.410762</td>\n",
       "    </tr>\n",
       "    <tr>\n",
       "      <th>105</th>\n",
       "      <td>106</td>\n",
       "      <td>7</td>\n",
       "      <td>5</td>\n",
       "      <td>5</td>\n",
       "      <td>0.31</td>\n",
       "      <td>877</td>\n",
       "      <td>0.676790</td>\n",
       "      <td>9.692459</td>\n",
       "    </tr>\n",
       "    <tr>\n",
       "      <th>106</th>\n",
       "      <td>107</td>\n",
       "      <td>7</td>\n",
       "      <td>6</td>\n",
       "      <td>4</td>\n",
       "      <td>0.72</td>\n",
       "      <td>3459</td>\n",
       "      <td>0.896281</td>\n",
       "      <td>12.588899</td>\n",
       "    </tr>\n",
       "    <tr>\n",
       "      <th>107</th>\n",
       "      <td>108</td>\n",
       "      <td>2</td>\n",
       "      <td>4</td>\n",
       "      <td>3</td>\n",
       "      <td>0.81</td>\n",
       "      <td>2714</td>\n",
       "      <td>0.932170</td>\n",
       "      <td>12.047583</td>\n",
       "    </tr>\n",
       "  </tbody>\n",
       "</table>\n",
       "<p>108 rows × 8 columns</p>\n",
       "</div>"
      ],
      "text/plain": [
       "     index  colorscore  clarityscore  cutscore  carat  price  cbrt_carat  \\\n",
       "0        1           7             6         4   0.33   1002    0.691042   \n",
       "1        2           6             3         2   1.01   4986    1.003322   \n",
       "2        3           7             3         4   1.01   5644    1.003322   \n",
       "3        4           7             3         5   0.34    626    0.697953   \n",
       "4        5           3             2         4   1.00   4032    1.000000   \n",
       "..     ...         ...           ...       ...    ...    ...         ...   \n",
       "103    104           2             1         2   1.03   2540    1.009902   \n",
       "104    105           3             3         5   1.29   7513    1.088587   \n",
       "105    106           7             5         5   0.31    877    0.676790   \n",
       "106    107           7             6         4   0.72   3459    0.896281   \n",
       "107    108           2             4         3   0.81   2714    0.932170   \n",
       "\n",
       "     price_transformed  \n",
       "0             9.956610  \n",
       "1            13.430159  \n",
       "2            13.722404  \n",
       "3             9.039583  \n",
       "4            12.937815  \n",
       "..                 ...  \n",
       "103          11.901980  \n",
       "104          14.410762  \n",
       "105           9.692459  \n",
       "106          12.588899  \n",
       "107          12.047583  \n",
       "\n",
       "[108 rows x 8 columns]"
      ]
     },
     "execution_count": 317,
     "metadata": {},
     "output_type": "execute_result"
    }
   ],
   "source": [
    "y = df['price']\n",
    "X = df[['colorscore', 'clarityscore', 'cutscore', 'cbrt_carat']]\n",
    "\n",
    "BC = pd.DataFrame(columns = ['lambda', 'loglf'])\n",
    "lambda1 = np.arange(-2.5, 2.5, 0.01)\n",
    "\n",
    "for i in range(1, len(lambda1)):\n",
    "    BC.loc[i] = box_cox_transformer(lambda1=lambda1[i], X=X, y=y)\n",
    "\n",
    "sns.lineplot(data=BC, x='lambda', y= 'loglf')\n",
    "plt.show()\n",
    "\n",
    "lambda_fit = BC['lambda'][BC['loglf'] == BC['loglf'].max()].values[0]\n",
    "print(f'lambda_fit: {lambda_fit}')\n",
    "\n",
    "BCy = (y ** lambda_fit - 1) / lambda_fit\n",
    "\n",
    "df['price_transformed'] = BCy\n",
    "df"
   ]
  },
  {
   "cell_type": "code",
   "execution_count": 318,
   "metadata": {},
   "outputs": [
    {
     "data": {
      "text/html": [
       "<table class=\"simpletable\">\n",
       "<caption>OLS Regression Results</caption>\n",
       "<tr>\n",
       "  <th>Dep. Variable:</th>    <td>price_transformed</td> <th>  R-squared:         </th> <td>   0.978</td>\n",
       "</tr>\n",
       "<tr>\n",
       "  <th>Model:</th>                   <td>OLS</td>        <th>  Adj. R-squared:    </th> <td>   0.977</td>\n",
       "</tr>\n",
       "<tr>\n",
       "  <th>Method:</th>             <td>Least Squares</td>   <th>  F-statistic:       </th> <td>   1121.</td>\n",
       "</tr>\n",
       "<tr>\n",
       "  <th>Date:</th>             <td>Sun, 28 Mar 2021</td>  <th>  Prob (F-statistic):</th> <td>6.45e-84</td>\n",
       "</tr>\n",
       "<tr>\n",
       "  <th>Time:</th>                 <td>14:59:49</td>      <th>  Log-Likelihood:    </th> <td> -25.913</td>\n",
       "</tr>\n",
       "<tr>\n",
       "  <th>No. Observations:</th>      <td>   108</td>       <th>  AIC:               </th> <td>   61.83</td>\n",
       "</tr>\n",
       "<tr>\n",
       "  <th>Df Residuals:</th>          <td>   103</td>       <th>  BIC:               </th> <td>   75.24</td>\n",
       "</tr>\n",
       "<tr>\n",
       "  <th>Df Model:</th>              <td>     4</td>       <th>                     </th>     <td> </td>   \n",
       "</tr>\n",
       "<tr>\n",
       "  <th>Covariance Type:</th>      <td>nonrobust</td>     <th>                     </th>     <td> </td>   \n",
       "</tr>\n",
       "</table>\n",
       "<table class=\"simpletable\">\n",
       "<tr>\n",
       "        <td></td>          <th>coef</th>     <th>std err</th>      <th>t</th>      <th>P>|t|</th>  <th>[0.025</th>    <th>0.975]</th>  \n",
       "</tr>\n",
       "<tr>\n",
       "  <th>Intercept</th>    <td>   -3.3154</td> <td>    0.302</td> <td>  -10.968</td> <td> 0.000</td> <td>   -3.915</td> <td>   -2.716</td>\n",
       "</tr>\n",
       "<tr>\n",
       "  <th>colorscore</th>   <td>    0.1455</td> <td>    0.021</td> <td>    6.990</td> <td> 0.000</td> <td>    0.104</td> <td>    0.187</td>\n",
       "</tr>\n",
       "<tr>\n",
       "  <th>clarityscore</th> <td>    0.3062</td> <td>    0.021</td> <td>   14.522</td> <td> 0.000</td> <td>    0.264</td> <td>    0.348</td>\n",
       "</tr>\n",
       "<tr>\n",
       "  <th>cutscore</th>     <td>    0.0999</td> <td>    0.029</td> <td>    3.501</td> <td> 0.001</td> <td>    0.043</td> <td>    0.156</td>\n",
       "</tr>\n",
       "<tr>\n",
       "  <th>cbrt_carat</th>   <td>   14.5974</td> <td>    0.224</td> <td>   65.207</td> <td> 0.000</td> <td>   14.153</td> <td>   15.041</td>\n",
       "</tr>\n",
       "</table>\n",
       "<table class=\"simpletable\">\n",
       "<tr>\n",
       "  <th>Omnibus:</th>       <td> 4.076</td> <th>  Durbin-Watson:     </th> <td>   1.964</td>\n",
       "</tr>\n",
       "<tr>\n",
       "  <th>Prob(Omnibus):</th> <td> 0.130</td> <th>  Jarque-Bera (JB):  </th> <td>   3.474</td>\n",
       "</tr>\n",
       "<tr>\n",
       "  <th>Skew:</th>          <td>-0.349</td> <th>  Prob(JB):          </th> <td>   0.176</td>\n",
       "</tr>\n",
       "<tr>\n",
       "  <th>Kurtosis:</th>      <td> 3.534</td> <th>  Cond. No.          </th> <td>    91.3</td>\n",
       "</tr>\n",
       "</table><br/><br/>Notes:<br/>[1] Standard Errors assume that the covariance matrix of the errors is correctly specified."
      ],
      "text/plain": [
       "<class 'statsmodels.iolib.summary.Summary'>\n",
       "\"\"\"\n",
       "                            OLS Regression Results                            \n",
       "==============================================================================\n",
       "Dep. Variable:      price_transformed   R-squared:                       0.978\n",
       "Model:                            OLS   Adj. R-squared:                  0.977\n",
       "Method:                 Least Squares   F-statistic:                     1121.\n",
       "Date:                Sun, 28 Mar 2021   Prob (F-statistic):           6.45e-84\n",
       "Time:                        14:59:49   Log-Likelihood:                -25.913\n",
       "No. Observations:                 108   AIC:                             61.83\n",
       "Df Residuals:                     103   BIC:                             75.24\n",
       "Df Model:                           4                                         \n",
       "Covariance Type:            nonrobust                                         \n",
       "================================================================================\n",
       "                   coef    std err          t      P>|t|      [0.025      0.975]\n",
       "--------------------------------------------------------------------------------\n",
       "Intercept       -3.3154      0.302    -10.968      0.000      -3.915      -2.716\n",
       "colorscore       0.1455      0.021      6.990      0.000       0.104       0.187\n",
       "clarityscore     0.3062      0.021     14.522      0.000       0.264       0.348\n",
       "cutscore         0.0999      0.029      3.501      0.001       0.043       0.156\n",
       "cbrt_carat      14.5974      0.224     65.207      0.000      14.153      15.041\n",
       "==============================================================================\n",
       "Omnibus:                        4.076   Durbin-Watson:                   1.964\n",
       "Prob(Omnibus):                  0.130   Jarque-Bera (JB):                3.474\n",
       "Skew:                          -0.349   Prob(JB):                        0.176\n",
       "Kurtosis:                       3.534   Cond. No.                         91.3\n",
       "==============================================================================\n",
       "\n",
       "Notes:\n",
       "[1] Standard Errors assume that the covariance matrix of the errors is correctly specified.\n",
       "\"\"\""
      ]
     },
     "execution_count": 318,
     "metadata": {},
     "output_type": "execute_result"
    }
   ],
   "source": [
    "model = smf.ols(formula = 'price_transformed ~ colorscore + clarityscore + cutscore + cbrt_carat',\n",
    "                data = df[['price_transformed', 'colorscore', 'clarityscore', 'cutscore', 'cbrt_carat']]).fit()\n",
    "model.summary()"
   ]
  },
  {
   "cell_type": "markdown",
   "metadata": {},
   "source": [
    "### Post-Transformation"
   ]
  },
  {
   "cell_type": "code",
   "execution_count": 319,
   "metadata": {
    "scrolled": true
   },
   "outputs": [
    {
     "data": {
      "image/png": "[encoded data removed]",
      "text/plain": [
       "<Figure size 432x288 with 1 Axes>"
      ]
     },
     "metadata": {
      "needs_background": "light"
     },
     "output_type": "display_data"
    },
    {
     "data": {
      "image/png": "[encoded data removed]",
      "text/plain": [
       "<Figure size 432x288 with 1 Axes>"
      ]
     },
     "metadata": {
      "needs_background": "light"
     },
     "output_type": "display_data"
    }
   ],
   "source": [
    "import matplotlib.pyplot as plt\n",
    "extresid = model.get_influence().resid_studentized_external\n",
    "pred = model.predict()\n",
    "\n",
    "plt.scatter(pred, extresid, s = 1)\n",
    "plt.xlabel('y-hat (predicted dependent variable)')\n",
    "plt.ylabel('ri (i.e. y[i] - y-hat[i])')\n",
    "plt.axhline(y=2, color='g', linestyle='-.', linewidth = 0.75)\n",
    "plt.axhline(y=0, color='r', linestyle='-.', linewidth = 0.75)\n",
    "plt.axhline(y=-2, color='g', linestyle='-.', linewidth = 0.75)\n",
    "plt.title('Externally Studentized Residual Plot')\n",
    "plt.show()\n",
    "\n",
    "import statsmodels.api as sm\n",
    "    \n",
    "sm.qqplot(extresid, line='45')\n",
    "plt.show()"
   ]
  },
  {
   "cell_type": "code",
   "execution_count": 320,
   "metadata": {},
   "outputs": [
    {
     "data": {
      "text/plain": [
       "0    2290.564847\n",
       "1    4599.565833\n",
       "dtype: float64"
      ]
     },
     "execution_count": 320,
     "metadata": {},
     "output_type": "execute_result"
    }
   ],
   "source": [
    "predicted_values = model.predict(\n",
    "                    {'intercept': [1, 1],\n",
    "                     'colorscore': [4, 2],\n",
    "                     'clarityscore': [6, 4],\n",
    "                     'cutscore': [4, 3],\n",
    "                     'cbrt_carat': [0.58**(1/3), 1.03**(1/3)]})\n",
    "\n",
    "# To do prediction, BCy has to be transformed back to original y.\n",
    "box_cox_transform_inverse(predicted_values, lambda_fit)"
   ]
  },
  {
   "cell_type": "markdown",
   "metadata": {},
   "source": [
    "## Ridge Regression"
   ]
  },
  {
   "cell_type": "code",
   "execution_count": 321,
   "metadata": {},
   "outputs": [],
   "source": [
    "df = pd.read_csv('murder-rate.txt', sep = '\\s+')\n",
    "\n",
    "# UR: Per mil (per 10-3) of population living in urban areas\n",
    "# B: Births per 1, 000\n",
    "# HT: Death rate from heart disease per 100, 000 residents\n",
    "# S: Suicide rate per 100, 000\n",
    "# MA: Marriage rate per 10, 000\n",
    "# D: Divorce rate per 10, 000\n",
    "# HS: Per mil high school grads\n",
    "# CR: Crime rate per 100, 000 population\n",
    "# PL:Per mil of population below poverty level\n",
    "# M: Murder rate per 100, 000 population\n",
    "    \n",
    "X = df[['UR', 'B', 'HT', 'S', 'MA', 'D', 'HS', 'CR', 'PL']].copy()\n",
    "y = df['M']"
   ]
  },
  {
   "cell_type": "markdown",
   "metadata": {},
   "source": [
    "## Checking Multicollinearity"
   ]
  },
  {
   "cell_type": "code",
   "execution_count": 322,
   "metadata": {},
   "outputs": [
    {
     "data": {
      "text/plain": [
       "<matplotlib.axes._subplots.AxesSubplot at 0x7fba9ee65128>"
      ]
     },
     "execution_count": 322,
     "metadata": {},
     "output_type": "execute_result"
    },
    {
     "data": {
      "image/png": "[encoded data removed]",
      "text/plain": [
       "<Figure size 432x288 with 2 Axes>"
      ]
     },
     "metadata": {
      "needs_background": "light"
     },
     "output_type": "display_data"
    }
   ],
   "source": [
    "corr = X.corr()\n",
    "sns.heatmap(corr, annot=False, cmap=plt.cm.Blues)"
   ]
  },
  {
   "cell_type": "code",
   "execution_count": 323,
   "metadata": {},
   "outputs": [
    {
     "name": "stdout",
     "output_type": "stream",
     "text": [
      "[UR] vif == 4.23223: multicollinearity is NOT that serious\n",
      "[B] vif == 3.13776: multicollinearity is NOT that serious\n",
      "[HT] vif == 2.77283: multicollinearity is NOT that serious\n",
      "[S] vif == 3.21148: multicollinearity is NOT that serious\n",
      "[MA] vif == 2.50905: multicollinearity is NOT that serious\n",
      "[D] vif == 4.12930: multicollinearity is NOT that serious\n",
      "[HS] vif == 5.92195: multicollinearity is SERIOUS\n",
      "[CR] vif == 6.17075: multicollinearity is SERIOUS\n",
      "[PL] vif == 4.85648: multicollinearity is NOT that serious\n",
      "[constant] vif == 769.23894: multicollinearity is SERIOUS\n"
     ]
    }
   ],
   "source": [
    "from statsmodels.stats.outliers_influence import variance_inflation_factor\n",
    "#X.reset_index(drop=True, inplace=True)\n",
    "\n",
    "X['constant'] = 1 # add a constant as the intercept\n",
    "for i in range(X.shape[1]):\n",
    "    vif = variance_inflation_factor(X.values, i)\n",
    "    print(f'[{X.columns[i]}] vif == {vif:.5f}: ', end = '')\n",
    "    if vif > 5:\n",
    "    # to demonstrate the technique, the threshold is set to 5.\n",
    "        print('multicollinearity is SERIOUS')\n",
    "    else:\n",
    "        print('multicollinearity is NOT that serious')"
   ]
  },
  {
   "cell_type": "markdown",
   "metadata": {},
   "source": [
    "## Linear Regression"
   ]
  },
  {
   "cell_type": "markdown",
   "metadata": {},
   "source": [
    "Naively fit a linear regression model"
   ]
  },
  {
   "cell_type": "code",
   "execution_count": 324,
   "metadata": {},
   "outputs": [
    {
     "name": "stdout",
     "output_type": "stream",
     "text": [
      "average RMSE: 28.349\n"
     ]
    }
   ],
   "source": [
    "from sklearn.metrics import mean_squared_error\n",
    "from sklearn.model_selection import cross_val_score\n",
    "from sklearn.linear_model import LinearRegression\n",
    "\n",
    "rmse = np.average(cross_val_score(estimator=lr, X=X, y=y.values.ravel(), cv=10,\n",
    "                scoring='neg_root_mean_squared_error', n_jobs=3, verbose=0, error_score='raise')) * -1\n",
    "print(f'average RMSE: {rmse:.3f}')"
   ]
  },
  {
   "cell_type": "markdown",
   "metadata": {},
   "source": [
    "Fit a linear regression model without CR"
   ]
  },
  {
   "cell_type": "code",
   "execution_count": 325,
   "metadata": {},
   "outputs": [
    {
     "name": "stdout",
     "output_type": "stream",
     "text": [
      "average RMSE: 26.955\n"
     ]
    }
   ],
   "source": [
    "rmse = np.average(cross_val_score(estimator=lr, X=X.drop('CR', axis=1), y=y.values.ravel(), cv=10,\n",
    "                scoring='neg_root_mean_squared_error', n_jobs=3, verbose=0, error_score='raise')) * -1\n",
    "print(f'average RMSE: {rmse:.3f}')"
   ]
  },
  {
   "cell_type": "markdown",
   "metadata": {},
   "source": [
    "## Ridge Regression with Hyperparameter Tuning"
   ]
  },
  {
   "cell_type": "code",
   "execution_count": 326,
   "metadata": {},
   "outputs": [
    {
     "name": "stdout",
     "output_type": "stream",
     "text": [
      "alpha: 0.01, average RMSE: 28.349\n",
      "alpha: 0.1, average RMSE: 28.349\n",
      "alpha: 1, average RMSE: 28.347\n",
      "alpha: 10, average RMSE: 28.330\n",
      "alpha: 100, average RMSE: 28.161\n",
      "alpha: 1000, average RMSE: 26.777\n",
      "alpha: 10000, average RMSE: 22.579\n",
      "alpha: 25000, average RMSE: 22.017\n",
      "alpha: 50000, average RMSE: 22.792\n",
      "alpha: 100000, average RMSE: 24.965\n"
     ]
    }
   ],
   "source": [
    "from sklearn.linear_model import Ridge\n",
    "\n",
    "alphas = [0.01, 0.1, 1, 10, 100, 1000, 10000, 25000, 50000, 100000]\n",
    "\n",
    "#ridge = Ridge(alpha=0.23427, fit_intercept=False)\n",
    "#ridge_fit = ridge.fit(X=sm.add_constant(X), y=y.values.ravel())\n",
    "#rmse = np.average(cross_val_score(estimator=ridge, X=sm.add_constant(X), y=y.values.ravel(), cv=10,\n",
    "#                scoring='neg_root_mean_squared_error', n_jobs=3, verbose=0, error_score='raise')) * -1\n",
    "#print(f'average RMSE: {rmse:.3f}')\n",
    "\n",
    "#ridge = Ridge(alpha=0.23427)\n",
    "#rmse = np.average(cross_val_score(estimator=ridge, X=X, y=y.values.ravel(), cv=10,\n",
    "#                scoring='neg_root_mean_squared_error', n_jobs=3, verbose=0, error_score='raise')) * -1\n",
    "#print(f'average RMSE: {rmse:.3f}')\n",
    "\n",
    "for alpha in alphas:\n",
    "    ridge = Ridge(alpha=alpha)\n",
    "    rmse = np.average(cross_val_score(estimator=ridge, X=X, y=y.values.ravel(), cv=10, \n",
    "                                      scoring='neg_root_mean_squared_error',\n",
    "                                      n_jobs=3, verbose=0, error_score='raise')) * -1\n",
    "    print(f'alpha: {alpha}, average RMSE: {rmse:.3f}')\n",
    "\n",
    "\n",
    "#mean_squared_error(y_true=y, y_pred=model.predict(X), squared=False)"
   ]
  }
 ],
 "metadata": {
  "kernelspec": {
   "display_name": "Python 3",
   "language": "python",
   "name": "python3"
  },
  "language_info": {
   "codemirror_mode": {
    "name": "ipython",
    "version": 3
   },
   "file_extension": ".py",
   "mimetype": "text/x-python",
   "name": "python",
   "nbconvert_exporter": "python",
   "pygments_lexer": "ipython3",
   "version": "3.7.3"
  }
 },
 "nbformat": 4,
 "nbformat_minor": 4
}
