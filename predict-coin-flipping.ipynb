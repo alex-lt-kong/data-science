{
 "cells": [
  {
   "cell_type": "markdown",
   "id": "0300548f-7307-47a9-a699-b31e8b9c5913",
   "metadata": {},
   "source": [
    "I have been constantly thinking about a thought experiment: say we have the best machine learning model in the world but we are asked to finish a mission impossible--predicting the results from tossing a fair coin using ONLY a series of past results (i.e., a series of heads/tails). What will these machine learning models give us? Will they clearly let us know that all attempts can only lead to a 50:50 probability? Or will they give us a false sense of confidence that they can magically do better than a random guess?"
   ]
  },
  {
   "cell_type": "code",
   "execution_count": 1,
   "id": "67605bac-2191-4b23-a440-f3d2b7920c6a",
   "metadata": {},
   "outputs": [],
   "source": [
    "import numpy as np\n",
    "import pandas as pd\n",
    "import matplotlib.pyplot as plt\n",
    "import random\n",
    "\n",
    "from sklearn.model_selection import train_test_split\n",
    "from sklearn.model_selection import GridSearchCV\n",
    "from sklearn.metrics import confusion_matrix"
   ]
  },
  {
   "cell_type": "code",
   "execution_count": 2,
   "id": "234e4361-9f3c-4228-b1a6-0b1cd23c1b72",
   "metadata": {},
   "outputs": [
    {
     "name": "stdout",
     "output_type": "stream",
     "text": [
      "[0 1 0 ... 1 1 0]\n",
      "100000\n"
     ]
    }
   ],
   "source": [
    "arr = np.random.randint(low=0, high=2, size=100_000)\n",
    "# Let's not make the arr to large--to simulate the situation of financial market data.\n",
    "print(arr)\n",
    "print(len(arr))"
   ]
  },
  {
   "cell_type": "code",
   "execution_count": 3,
   "id": "1e389168-d84d-4960-8d81-7383ad1deb6b",
   "metadata": {},
   "outputs": [],
   "source": [
    "def task(model, arr):\n",
    "    col_count = 128\n",
    "    df = pd.DataFrame()\n",
    "    for i in range(arr.shape[0] - col_count):\n",
    "        d = {}\n",
    "        for j in range(0, col_count):\n",
    "            d[f'x{j}'] = arr[i+j]\n",
    "        d['y'] = arr[i + col_count]\n",
    "        df = df.append(d, ignore_index=True)\n",
    "    df.iloc[:,col_count] =df.iloc[:,col_count] > 0\n",
    "    X = df.iloc[:,0:col_count]\n",
    "    y = df.iloc[:,col_count]\n",
    "    pos = y[y == True].count()\n",
    "    neg = y.shape[0] - pos\n",
    "    \n",
    "    X_train, X_test, y_train, y_test = train_test_split(X, y)\n",
    "    clf = model.fit(X_train, y_train)\n",
    "    y_pred = clf.predict(X_test)\n",
    "    \n",
    "    print(f\"{pos=:,}, {neg=:,}\", end=\"; \")\n",
    "    y_pred = clf.predict(X_train)\n",
    "    tn, fp, fn, tp = confusion_matrix(y_true=y_train, y_pred=y_pred).ravel()\n",
    "    accuracy = (tn + tp) / (tn + fp + fn + tp)\n",
    "    tpr = tp / (tp + fn)\n",
    "    fpr = fp / (fp + tn)\n",
    "    tnr = tn / (tn + fp)\n",
    "    balanced_accuracy = (tpr + tnr) / 2\n",
    "    \n",
    "    print(f\"training set(tpr={tpr*100:2.1f}%, fpr={fpr*100:2.1f}%, tnr={tnr*100:2.1f}%, accuracy={accuracy*100:.1f}%, balanced_accuracy={balanced_accuracy*100:.1f}%)\", end=\"; \")\n",
    "    \n",
    "    y_pred = clf.predict(X_test)\n",
    "    tn, fp, fn, tp = confusion_matrix(y_true=y_test, y_pred=y_pred).ravel()\n",
    "    accuracy = (tn + tp) / (tn + fp + fn + tp)\n",
    "    tpr = tp / (tp + fn)\n",
    "    fpr = fp / (fp + tn)\n",
    "    tnr = tn / (tn + fp)\n",
    "    balanced_accuracy = (tpr + tnr) / 2\n",
    "    print(f\"test set(tpr={tpr*100:2.1f}%, fpr={fpr*100:2.1f}%, tnr={tnr*100:2.1f}%, accuracy={accuracy*100:.1f}%, balanced_accuracy={balanced_accuracy*100:.1f}%)\")"
   ]
  },
  {
   "cell_type": "code",
   "execution_count": 4,
   "id": "35838dd5-4c42-4fd2-ae34-d145dd660135",
   "metadata": {},
   "outputs": [
    {
     "name": "stdout",
     "output_type": "stream",
     "text": [
      "pos=49,970, neg=49,902; training set(tpr=100.0%, fpr=0.0%, tnr=100.0%, accuracy=100.0%, balanced_accuracy=100.0%); test set(tpr=46.5%, fpr=47.1%, tnr=52.9%, accuracy=49.7%, balanced_accuracy=49.7%)\n"
     ]
    }
   ],
   "source": [
    "from sklearn.ensemble import RandomForestClassifier as rfc\n",
    "task(rfc(), arr.copy())"
   ]
  },
  {
   "cell_type": "code",
   "execution_count": 5,
   "id": "6472ee81-4910-47d5-90df-06c0660f2814",
   "metadata": {},
   "outputs": [
    {
     "name": "stdout",
     "output_type": "stream",
     "text": [
      "pos=49,970, neg=49,902; training set(tpr=52.9%, fpr=49.5%, tnr=50.5%, accuracy=51.7%, balanced_accuracy=51.7%); test set(tpr=50.1%, fpr=50.8%, tnr=49.2%, accuracy=49.7%, balanced_accuracy=49.7%)\n"
     ]
    }
   ],
   "source": [
    "from sklearn.linear_model import LogisticRegression as lr\n",
    "task(lr(), arr.copy())"
   ]
  },
  {
   "cell_type": "code",
   "execution_count": 6,
   "id": "8e689363-e3b9-40b8-abc2-3eff28a7221e",
   "metadata": {},
   "outputs": [
    {
     "name": "stdout",
     "output_type": "stream",
     "text": [
      "pos=49,970, neg=49,902; training set(tpr=83.9%, fpr=17.4%, tnr=82.6%, accuracy=83.3%, balanced_accuracy=83.2%); test set(tpr=51.0%, fpr=51.4%, tnr=48.6%, accuracy=49.8%, balanced_accuracy=49.8%)\n"
     ]
    }
   ],
   "source": [
    "from sklearn.svm import SVC\n",
    "task(SVC(), arr.copy())"
   ]
  },
  {
   "cell_type": "code",
   "execution_count": 7,
   "id": "2bc91674-04d8-4ee8-acc5-ebd25cb98c8a",
   "metadata": {},
   "outputs": [
    {
     "name": "stdout",
     "output_type": "stream",
     "text": [
      "pos=49,970, neg=49,902; training set(tpr=99.6%, fpr=0.3%, tnr=99.7%, accuracy=99.6%, balanced_accuracy=99.6%); test set(tpr=48.9%, fpr=48.7%, tnr=51.3%, accuracy=50.1%, balanced_accuracy=50.1%)\n"
     ]
    }
   ],
   "source": [
    "from sklearn.neural_network import MLPClassifier as mlpc\n",
    "task(mlpc(hidden_layer_sizes=(400, 400, 400, 400, 400)), arr.copy())"
   ]
  }
 ],
 "metadata": {
  "kernelspec": {
   "display_name": "Python 3 (ipykernel)",
   "language": "python",
   "name": "python3"
  },
  "language_info": {
   "codemirror_mode": {
    "name": "ipython",
    "version": 3
   },
   "file_extension": ".py",
   "mimetype": "text/x-python",
   "name": "python",
   "nbconvert_exporter": "python",
   "pygments_lexer": "ipython3",
   "version": "3.9.5"
  }
 },
 "nbformat": 4,
 "nbformat_minor": 5
}
