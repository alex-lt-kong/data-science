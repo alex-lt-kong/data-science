{
 "cells": [
  {
   "cell_type": "code",
   "execution_count": 1,
   "id": "bd8d55b3-9f54-43c3-bbc2-1bf6858d48fc",
   "metadata": {},
   "outputs": [],
   "source": [
    "import math\n",
    "import numpy as np\n",
    "import pandas as pd\n",
    "import matplotlib.pyplot as plt"
   ]
  },
  {
   "cell_type": "markdown",
   "id": "adf4fa35-8b46-45d1-a6cb-1d8e2c724d8f",
   "metadata": {},
   "source": [
    "# Step 1. Generate a toy dataset\n",
    "\n",
    "To keep this practice as simple as possible so that we focus on Logistic Regression's basic idea only, we generate our own toy dataset. Following StatQuest's case (https://youtu.be/yIYKR4sgzI8), we also use weight as explanatory variable `X` and obese as response variable `y`"
   ]
  },
  {
   "cell_type": "code",
   "execution_count": 2,
   "id": "fcdb245a-93a0-42ba-8f99-81ddfb88f337",
   "metadata": {},
   "outputs": [
    {
     "data": {
      "text/html": [
       "<div>\n",
       "<style scoped>\n",
       "    .dataframe tbody tr th:only-of-type {\n",
       "        vertical-align: middle;\n",
       "    }\n",
       "\n",
       "    .dataframe tbody tr th {\n",
       "        vertical-align: top;\n",
       "    }\n",
       "\n",
       "    .dataframe thead th {\n",
       "        text-align: right;\n",
       "    }\n",
       "</style>\n",
       "<table border=\"1\" class=\"dataframe\">\n",
       "  <thead>\n",
       "    <tr style=\"text-align: right;\">\n",
       "      <th></th>\n",
       "      <th>weight</th>\n",
       "      <th>obese</th>\n",
       "    </tr>\n",
       "  </thead>\n",
       "  <tbody>\n",
       "    <tr>\n",
       "      <th>0</th>\n",
       "      <td>78</td>\n",
       "      <td>0</td>\n",
       "    </tr>\n",
       "    <tr>\n",
       "      <th>1</th>\n",
       "      <td>98</td>\n",
       "      <td>1</td>\n",
       "    </tr>\n",
       "    <tr>\n",
       "      <th>2</th>\n",
       "      <td>45</td>\n",
       "      <td>0</td>\n",
       "    </tr>\n",
       "    <tr>\n",
       "      <th>3</th>\n",
       "      <td>94</td>\n",
       "      <td>1</td>\n",
       "    </tr>\n",
       "    <tr>\n",
       "      <th>4</th>\n",
       "      <td>123</td>\n",
       "      <td>1</td>\n",
       "    </tr>\n",
       "    <tr>\n",
       "      <th>5</th>\n",
       "      <td>65</td>\n",
       "      <td>0</td>\n",
       "    </tr>\n",
       "    <tr>\n",
       "      <th>6</th>\n",
       "      <td>43</td>\n",
       "      <td>0</td>\n",
       "    </tr>\n",
       "    <tr>\n",
       "      <th>7</th>\n",
       "      <td>39</td>\n",
       "      <td>0</td>\n",
       "    </tr>\n",
       "    <tr>\n",
       "      <th>8</th>\n",
       "      <td>102</td>\n",
       "      <td>1</td>\n",
       "    </tr>\n",
       "    <tr>\n",
       "      <th>9</th>\n",
       "      <td>87</td>\n",
       "      <td>0</td>\n",
       "    </tr>\n",
       "    <tr>\n",
       "      <th>10</th>\n",
       "      <td>140</td>\n",
       "      <td>1</td>\n",
       "    </tr>\n",
       "    <tr>\n",
       "      <th>11</th>\n",
       "      <td>56</td>\n",
       "      <td>0</td>\n",
       "    </tr>\n",
       "    <tr>\n",
       "      <th>12</th>\n",
       "      <td>58</td>\n",
       "      <td>0</td>\n",
       "    </tr>\n",
       "    <tr>\n",
       "      <th>13</th>\n",
       "      <td>49</td>\n",
       "      <td>0</td>\n",
       "    </tr>\n",
       "    <tr>\n",
       "      <th>14</th>\n",
       "      <td>86</td>\n",
       "      <td>1</td>\n",
       "    </tr>\n",
       "    <tr>\n",
       "      <th>15</th>\n",
       "      <td>91</td>\n",
       "      <td>0</td>\n",
       "    </tr>\n",
       "    <tr>\n",
       "      <th>16</th>\n",
       "      <td>66</td>\n",
       "      <td>0</td>\n",
       "    </tr>\n",
       "    <tr>\n",
       "      <th>17</th>\n",
       "      <td>67</td>\n",
       "      <td>0</td>\n",
       "    </tr>\n",
       "    <tr>\n",
       "      <th>18</th>\n",
       "      <td>68</td>\n",
       "      <td>0</td>\n",
       "    </tr>\n",
       "    <tr>\n",
       "      <th>19</th>\n",
       "      <td>79</td>\n",
       "      <td>0</td>\n",
       "    </tr>\n",
       "    <tr>\n",
       "      <th>20</th>\n",
       "      <td>91</td>\n",
       "      <td>0</td>\n",
       "    </tr>\n",
       "    <tr>\n",
       "      <th>21</th>\n",
       "      <td>82</td>\n",
       "      <td>1</td>\n",
       "    </tr>\n",
       "  </tbody>\n",
       "</table>\n",
       "</div>"
      ],
      "text/plain": [
       "    weight  obese\n",
       "0       78      0\n",
       "1       98      1\n",
       "2       45      0\n",
       "3       94      1\n",
       "4      123      1\n",
       "5       65      0\n",
       "6       43      0\n",
       "7       39      0\n",
       "8      102      1\n",
       "9       87      0\n",
       "10     140      1\n",
       "11      56      0\n",
       "12      58      0\n",
       "13      49      0\n",
       "14      86      1\n",
       "15      91      0\n",
       "16      66      0\n",
       "17      67      0\n",
       "18      68      0\n",
       "19      79      0\n",
       "20      91      0\n",
       "21      82      1"
      ]
     },
     "execution_count": 2,
     "metadata": {},
     "output_type": "execute_result"
    }
   ],
   "source": [
    "df = pd.DataFrame({'weight':[78, 98, 45, 94, 123, 65, 43, 39, 102, 87, 140, 56, 58, 49, 86, 91, 66, 67, 68, 79, 91, 82],\n",
    "                   'obese': [ 0,  1,  0,  1,   1,  0,  0,  0,   1,  0,   1,  0,  0,  0,  1,  0,  0,  0,  0,  0,  0,  1]})\n",
    "df"
   ]
  },
  {
   "cell_type": "code",
   "execution_count": 3,
   "id": "23912e44-9873-4996-8ab3-46b9ed71309a",
   "metadata": {},
   "outputs": [
    {
     "data": {
      "text/plain": [
       "<matplotlib.collections.PathCollection at 0x7f147f92d6a0>"
      ]
     },
     "execution_count": 3,
     "metadata": {},
     "output_type": "execute_result"
    },
    {
     "data": {
      "image/png": "[encoded data removed]",
      "text/plain": [
       "<Figure size 432x288 with 1 Axes>"
      ]
     },
     "metadata": {
      "needs_background": "light"
     },
     "output_type": "display_data"
    }
   ],
   "source": [
    "plt.scatter(x=df.iloc[:,0], y=df.iloc[:,1])"
   ]
  },
  {
   "cell_type": "markdown",
   "id": "3fcf7058-413b-4640-a9e7-c2b849a13ba6",
   "metadata": {},
   "source": [
    "# Step 2. Fit data the convenient way\n",
    "\n",
    "We use sklearn to get a first impression on what our own result should look like"
   ]
  },
  {
   "cell_type": "code",
   "execution_count": 4,
   "id": "569800b2-8103-422f-9305-027bbe02ef0a",
   "metadata": {},
   "outputs": [],
   "source": [
    "from sklearn.linear_model import LogisticRegression\n",
    "\n",
    "clf = LogisticRegression(random_state=0).fit(df.iloc[:,0].values.reshape(-1, 1), df.iloc[:,1])"
   ]
  },
  {
   "cell_type": "code",
   "execution_count": 5,
   "id": "f6531874-17f5-47b9-8d7b-0a25ef8aca78",
   "metadata": {},
   "outputs": [
    {
     "name": "stdout",
     "output_type": "stream",
     "text": [
      "0.17737397329283072\n",
      "-15.775966227457388\n"
     ]
    }
   ],
   "source": [
    "print(clf.coef_[0][0])\n",
    "print(clf.intercept_[0])"
   ]
  },
  {
   "cell_type": "markdown",
   "id": "f1592ae5-0a53-4557-953f-5308b41b01e9",
   "metadata": {},
   "source": [
    "We need two formulas to convert between probability and the log of odds (i.e., log odds)\n",
    "\n",
    "Definition of odds and log odds in case of two possible outcomes (either $p$ or $1 - p$):\n",
    "$$\n",
    "\\frac{p}{1-p}\n",
    "$$\n",
    "\n",
    "$$\n",
    "log(\\frac{p}{1-p})\n",
    "$$\n",
    "\n",
    "Calculate $p$ from log odds\n",
    "\n",
    "$$\n",
    "p = \\frac{e^{log(odds)}}{1 + e^{log(odds)}}\n",
    "$$\n",
    "\n",
    "The original toy dateset is `proability of being obese` against `weight` but `clf.coef_[0][0]` and `clf.intercept_[0]` is used to calculate `log odds` from `weight`"
   ]
  },
  {
   "cell_type": "code",
   "execution_count": 6,
   "id": "281f4999-ee67-42cb-ad83-1636acb01565",
   "metadata": {},
   "outputs": [
    {
     "data": {
      "text/plain": [
       "0    -1.940796\n",
       "1     1.606683\n",
       "2    -7.794137\n",
       "3     0.897187\n",
       "4     6.041032\n",
       "5    -4.246658\n",
       "6    -8.148885\n",
       "7    -8.858381\n",
       "8     2.316179\n",
       "9    -0.344431\n",
       "10    9.056390\n",
       "11   -5.843024\n",
       "12   -5.488276\n",
       "13   -7.084642\n",
       "14   -0.521805\n",
       "15    0.365065\n",
       "16   -4.069284\n",
       "17   -3.891910\n",
       "18   -3.714536\n",
       "19   -1.763422\n",
       "20    0.365065\n",
       "21   -1.231300\n",
       "Name: weight, dtype: float64"
      ]
     },
     "execution_count": 6,
     "metadata": {},
     "output_type": "execute_result"
    }
   ],
   "source": [
    "log_odds = df.iloc[:,0] * clf.coef_[0][0] + clf.intercept_[0]\n",
    "log_odds"
   ]
  },
  {
   "cell_type": "markdown",
   "id": "d17dd671-e5d7-405f-8f34-ef9a83c42c20",
   "metadata": {},
   "source": [
    "After calculating log odds as predicted by the Logistic Regression model, we need to convert log odds back to probability so that the result can be plotted to the original scatter plot"
   ]
  },
  {
   "cell_type": "code",
   "execution_count": 7,
   "id": "1320b18f-2dfe-43d6-8583-f54028adb1c7",
   "metadata": {},
   "outputs": [
    {
     "data": {
      "text/plain": [
       "0     0.125560\n",
       "1     0.832950\n",
       "2     0.000412\n",
       "3     0.710371\n",
       "4     0.997627\n",
       "5     0.014110\n",
       "6     0.000289\n",
       "7     0.000142\n",
       "8     0.910208\n",
       "9     0.414734\n",
       "10    0.999883\n",
       "11    0.002892\n",
       "12    0.004118\n",
       "13    0.000837\n",
       "14    0.372430\n",
       "15    0.590266\n",
       "16    0.016802\n",
       "17    0.019998\n",
       "18    0.023787\n",
       "19    0.146362\n",
       "20    0.590266\n",
       "21    0.225954\n",
       "Name: weight, dtype: float64"
      ]
     },
     "execution_count": 7,
     "metadata": {},
     "output_type": "execute_result"
    }
   ],
   "source": [
    "prob = math.e ** log_odds / (1 + math.e ** log_odds)\n",
    "prob"
   ]
  },
  {
   "cell_type": "code",
   "execution_count": 8,
   "id": "6a73270c-cc80-49ba-b5d3-4c8e12e332c3",
   "metadata": {},
   "outputs": [
    {
     "data": {
      "image/png": "[encoded data removed]",
      "text/plain": [
       "<Figure size 432x288 with 1 Axes>"
      ]
     },
     "metadata": {
      "needs_background": "light"
     },
     "output_type": "display_data"
    }
   ],
   "source": [
    "plt.scatter(x=df.iloc[:,0], y=df.iloc[:,1])\n",
    "plt.scatter(x=df.iloc[:,0], y=prob)\n",
    "plt.show()"
   ]
  }
 ],
 "metadata": {
  "kernelspec": {
   "display_name": "Python 3 (ipykernel)",
   "language": "python",
   "name": "python3"
  },
  "language_info": {
   "codemirror_mode": {
    "name": "ipython",
    "version": 3
   },
   "file_extension": ".py",
   "mimetype": "text/x-python",
   "name": "python",
   "nbconvert_exporter": "python",
   "pygments_lexer": "ipython3",
   "version": "3.7.3"
  }
 },
 "nbformat": 4,
 "nbformat_minor": 5
}
